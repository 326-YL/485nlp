{
  "cells": [
    {
      "cell_type": "markdown",
      "metadata": {
        "id": "view-in-github",
        "colab_type": "text"
      },
      "source": [
        "<a href=\"https://colab.research.google.com/github/326-YL/485nlp/blob/main/Yet_another_copy_of_hw4.ipynb\" target=\"_parent\"><img src=\"https://colab.research.google.com/assets/colab-badge.svg\" alt=\"Open In Colab\"/></a>"
      ]
    },
    {
      "cell_type": "markdown",
      "metadata": {
        "id": "_On49_jMY2P_"
      },
      "source": [
        "## Homework 4: Using BERT for Text Classification\n",
        "\n",
        "For [UMass CS485, Fall 2023](https://people.cs.umass.edu/~brenocon/cs485_f23/)\n",
        "\n",
        "### Submit via Gradescope as a PDF (File>Print>Save as PDF) and as a Jupyter Notebook (.ipynb). 50 points total (plus extra credit).\n",
        "\n",
        "Due Sunday Dec 3. Please finish ahead of time so you have time to prepare your presentations!\n",
        "\n",
        "---\n",
        "\n",
        "##### *How to do this problem set:*\n",
        "\n",
        "- Some questions require writing Python code and computing results, and the rest of them have written answers. For coding problems, you will have to fill out all code blocks that say `YOUR CODE HERE!`.\n",
        "\n",
        "- For text-based answers, you should replace the text that says \"WRITE YOUR ANSWER HERE\" with your actual answer.\n",
        "\n",
        "---\n",
        "\n",
        "##### *How to submit this problem set:*\n",
        "- Write all the answers in this CoLab notebook, and submit both as PDF and a Jupyter Notebook.\n",
        "\n",
        "  1. Once you are finished, generate a PDF via (File -> Print -> Save as PDF) and upload it to Gradescope's \"HW4 PDF Submission\" entry.\n",
        "\n",
        "  2. Also generate a Jupyter Notebook (.ipynb) via (File -> Download -> Download .ipynb) and upload it to Gradescope's \"HW4 Code Submission\" entry.\n",
        "\n",
        "- **Important:** Check your PDF before you submit to Gradescope to make sure it exported correctly. If Colab gets confused about your syntax, it will sometimes terminate the PDF creation routine early.\n",
        "\n",
        "- **Important:** On Gradescope, please make sure that you tag each page with the corresponding question(s). This makes it significantly easier for our graders to grade submissions, especially with the long outputs of many of these cells. We will take off points for submissions that are not tagged.\n",
        "\n",
        "- When creating your final version of the PDF to hand in, please do a fresh restart and execute every cell in order. One handy way to do this is by clicking `Runtime -> Run All` in the Notebook menu. *Make sure to attach a GPU.*\n",
        "---\n",
        "##### *Computing Resources*\n",
        "- Google CoLab provides free access to a GPU for up to 12 hours of continuous use. If you exceed this limit, you will not be able to access a GPU for some time. There's no guarantee on when you'll regain access, but generally it will take several hours.\n",
        "- *This assignment needs nowhere near 12 hours of GPU computing.*\n",
        "- Avoid leaving your notebook idling with a GPU attached, this is any easy way to rack up GPU usage without meaning to.\n",
        "---"
      ]
    },
    {
      "cell_type": "markdown",
      "metadata": {
        "id": "DKnuraijYTXi"
      },
      "source": [
        "# Part 0: Setup\n"
      ]
    },
    {
      "cell_type": "markdown",
      "metadata": {
        "id": "rbvUWP4DZcwK"
      },
      "source": [
        "## Adding a hardware accelerator\n",
        "The purpose of this homework is for you to become familiar with using large-scale pretrained lanuage models such as BERT. Since models such as BERT are large neural networks, we will need to attach a GPU for this assignment; otherwise, training and extracting features will take a very long time.\n",
        "\n",
        "To attach and use a GPU in this CoLab notebook, complete the following steps:\n",
        "\n",
        "1. First, attach a GPU by navigating the CoLab menu as follows:  \n",
        "`Edit > Notebook Settings > Hardware accelerator > (GPU)`\n",
        "\n",
        "2. Then, set the `use_gpu` flag in the following code cell to `True`\n",
        "\n",
        "3. Finally, confirm that a GPU is detected (or *not* detected) by running the following code cell."
      ]
    },
    {
      "cell_type": "code",
      "execution_count": null,
      "metadata": {
        "id": "L15Jm70wZxmZ",
        "colab": {
          "base_uri": "https://localhost:8080/"
        },
        "outputId": "65453982-e749-415d-d4a1-7c764b2054be"
      },
      "outputs": [
        {
          "output_type": "stream",
          "name": "stdout",
          "text": [
            "Found device: Tesla T4, n_gpu: 1\n"
          ]
        }
      ],
      "source": [
        "import torch\n",
        "\n",
        "use_gpu = True  # Change this flag as needed\n",
        "\n",
        "if use_gpu:\n",
        "  # Check the GPU is detected\n",
        "  if not torch.cuda.is_available():\n",
        "    print(\"ERROR: No GPU detected. Please add a GPU; if you're using Colab, use their UI.\")\n",
        "    assert False\n",
        "  # Get the GPU device name.\n",
        "  device_name = torch.cuda.get_device_name()\n",
        "  n_gpu = torch.cuda.device_count()\n",
        "  print(\"Found device: {}, n_gpu: {}\".format(device_name, n_gpu))\n",
        "else:\n",
        "  # Check that no GPU is detected\n",
        "  if torch.cuda.is_available():\n",
        "    print(\"ERROR: GPU detected.\")\n",
        "    print(\"Remove the GPU or set the use_gpu flag to True.\")\n",
        "    assert False\n",
        "  print(\"No GPU found. Using CPU.\")\n",
        "  print(\"WARNING: Without a GPU, your code will be extremely slow.\")"
      ]
    },
    {
      "cell_type": "markdown",
      "metadata": {
        "id": "tW6QWGF_ZzZA"
      },
      "source": [
        "Note that attaching a GPU to an active notebook (and vice versa) will reset the notebook's runtime."
      ]
    },
    {
      "cell_type": "markdown",
      "metadata": {
        "id": "JgSDLMxwZ5b-"
      },
      "source": [
        "## Installing 🤗 Hugging Face packages"
      ]
    },
    {
      "cell_type": "code",
      "execution_count": null,
      "metadata": {
        "id": "FxNFkKquZ9y8",
        "colab": {
          "base_uri": "https://localhost:8080/"
        },
        "outputId": "8bc38241-21dc-4eac-e26a-d32d9bfc7dbc"
      },
      "outputs": [
        {
          "output_type": "stream",
          "name": "stdout",
          "text": [
            "Requirement already satisfied: transformers==4.24.0 in /usr/local/lib/python3.10/dist-packages (4.24.0)\n",
            "Requirement already satisfied: filelock in /usr/local/lib/python3.10/dist-packages (from transformers==4.24.0) (3.13.1)\n",
            "Requirement already satisfied: huggingface-hub<1.0,>=0.10.0 in /usr/local/lib/python3.10/dist-packages (from transformers==4.24.0) (0.19.4)\n",
            "Requirement already satisfied: numpy>=1.17 in /usr/local/lib/python3.10/dist-packages (from transformers==4.24.0) (1.23.5)\n",
            "Requirement already satisfied: packaging>=20.0 in /usr/local/lib/python3.10/dist-packages (from transformers==4.24.0) (23.2)\n",
            "Requirement already satisfied: pyyaml>=5.1 in /usr/local/lib/python3.10/dist-packages (from transformers==4.24.0) (6.0.1)\n",
            "Requirement already satisfied: regex!=2019.12.17 in /usr/local/lib/python3.10/dist-packages (from transformers==4.24.0) (2023.6.3)\n",
            "Requirement already satisfied: requests in /usr/local/lib/python3.10/dist-packages (from transformers==4.24.0) (2.31.0)\n",
            "Requirement already satisfied: tokenizers!=0.11.3,<0.14,>=0.11.1 in /usr/local/lib/python3.10/dist-packages (from transformers==4.24.0) (0.13.3)\n",
            "Requirement already satisfied: tqdm>=4.27 in /usr/local/lib/python3.10/dist-packages (from transformers==4.24.0) (4.66.1)\n",
            "Requirement already satisfied: fsspec>=2023.5.0 in /usr/local/lib/python3.10/dist-packages (from huggingface-hub<1.0,>=0.10.0->transformers==4.24.0) (2023.6.0)\n",
            "Requirement already satisfied: typing-extensions>=3.7.4.3 in /usr/local/lib/python3.10/dist-packages (from huggingface-hub<1.0,>=0.10.0->transformers==4.24.0) (4.5.0)\n",
            "Requirement already satisfied: charset-normalizer<4,>=2 in /usr/local/lib/python3.10/dist-packages (from requests->transformers==4.24.0) (3.3.2)\n",
            "Requirement already satisfied: idna<4,>=2.5 in /usr/local/lib/python3.10/dist-packages (from requests->transformers==4.24.0) (3.4)\n",
            "Requirement already satisfied: urllib3<3,>=1.21.1 in /usr/local/lib/python3.10/dist-packages (from requests->transformers==4.24.0) (2.0.7)\n",
            "Requirement already satisfied: certifi>=2017.4.17 in /usr/local/lib/python3.10/dist-packages (from requests->transformers==4.24.0) (2023.7.22)\n",
            "Requirement already satisfied: datasets==2.7.1 in /usr/local/lib/python3.10/dist-packages (2.7.1)\n",
            "Requirement already satisfied: numpy>=1.17 in /usr/local/lib/python3.10/dist-packages (from datasets==2.7.1) (1.23.5)\n",
            "Requirement already satisfied: pyarrow>=6.0.0 in /usr/local/lib/python3.10/dist-packages (from datasets==2.7.1) (9.0.0)\n",
            "Requirement already satisfied: dill<0.3.7 in /usr/local/lib/python3.10/dist-packages (from datasets==2.7.1) (0.3.6)\n",
            "Requirement already satisfied: pandas in /usr/local/lib/python3.10/dist-packages (from datasets==2.7.1) (1.5.3)\n",
            "Requirement already satisfied: requests>=2.19.0 in /usr/local/lib/python3.10/dist-packages (from datasets==2.7.1) (2.31.0)\n",
            "Requirement already satisfied: tqdm>=4.62.1 in /usr/local/lib/python3.10/dist-packages (from datasets==2.7.1) (4.66.1)\n",
            "Requirement already satisfied: xxhash in /usr/local/lib/python3.10/dist-packages (from datasets==2.7.1) (3.4.1)\n",
            "Requirement already satisfied: multiprocess in /usr/local/lib/python3.10/dist-packages (from datasets==2.7.1) (0.70.14)\n",
            "Requirement already satisfied: fsspec[http]>=2021.11.1 in /usr/local/lib/python3.10/dist-packages (from datasets==2.7.1) (2023.6.0)\n",
            "Requirement already satisfied: aiohttp in /usr/local/lib/python3.10/dist-packages (from datasets==2.7.1) (3.8.6)\n",
            "Requirement already satisfied: huggingface-hub<1.0.0,>=0.2.0 in /usr/local/lib/python3.10/dist-packages (from datasets==2.7.1) (0.19.4)\n",
            "Requirement already satisfied: packaging in /usr/local/lib/python3.10/dist-packages (from datasets==2.7.1) (23.2)\n",
            "Requirement already satisfied: responses<0.19 in /usr/local/lib/python3.10/dist-packages (from datasets==2.7.1) (0.18.0)\n",
            "Requirement already satisfied: pyyaml>=5.1 in /usr/local/lib/python3.10/dist-packages (from datasets==2.7.1) (6.0.1)\n",
            "Requirement already satisfied: attrs>=17.3.0 in /usr/local/lib/python3.10/dist-packages (from aiohttp->datasets==2.7.1) (23.1.0)\n",
            "Requirement already satisfied: charset-normalizer<4.0,>=2.0 in /usr/local/lib/python3.10/dist-packages (from aiohttp->datasets==2.7.1) (3.3.2)\n",
            "Requirement already satisfied: multidict<7.0,>=4.5 in /usr/local/lib/python3.10/dist-packages (from aiohttp->datasets==2.7.1) (6.0.4)\n",
            "Requirement already satisfied: async-timeout<5.0,>=4.0.0a3 in /usr/local/lib/python3.10/dist-packages (from aiohttp->datasets==2.7.1) (4.0.3)\n",
            "Requirement already satisfied: yarl<2.0,>=1.0 in /usr/local/lib/python3.10/dist-packages (from aiohttp->datasets==2.7.1) (1.9.2)\n",
            "Requirement already satisfied: frozenlist>=1.1.1 in /usr/local/lib/python3.10/dist-packages (from aiohttp->datasets==2.7.1) (1.4.0)\n",
            "Requirement already satisfied: aiosignal>=1.1.2 in /usr/local/lib/python3.10/dist-packages (from aiohttp->datasets==2.7.1) (1.3.1)\n",
            "Requirement already satisfied: filelock in /usr/local/lib/python3.10/dist-packages (from huggingface-hub<1.0.0,>=0.2.0->datasets==2.7.1) (3.13.1)\n",
            "Requirement already satisfied: typing-extensions>=3.7.4.3 in /usr/local/lib/python3.10/dist-packages (from huggingface-hub<1.0.0,>=0.2.0->datasets==2.7.1) (4.5.0)\n",
            "Requirement already satisfied: idna<4,>=2.5 in /usr/local/lib/python3.10/dist-packages (from requests>=2.19.0->datasets==2.7.1) (3.4)\n",
            "Requirement already satisfied: urllib3<3,>=1.21.1 in /usr/local/lib/python3.10/dist-packages (from requests>=2.19.0->datasets==2.7.1) (2.0.7)\n",
            "Requirement already satisfied: certifi>=2017.4.17 in /usr/local/lib/python3.10/dist-packages (from requests>=2.19.0->datasets==2.7.1) (2023.7.22)\n",
            "Requirement already satisfied: python-dateutil>=2.8.1 in /usr/local/lib/python3.10/dist-packages (from pandas->datasets==2.7.1) (2.8.2)\n",
            "Requirement already satisfied: pytz>=2020.1 in /usr/local/lib/python3.10/dist-packages (from pandas->datasets==2.7.1) (2023.3.post1)\n",
            "Requirement already satisfied: six>=1.5 in /usr/local/lib/python3.10/dist-packages (from python-dateutil>=2.8.1->pandas->datasets==2.7.1) (1.16.0)\n",
            "Requirement already satisfied: evaluate==0.3.0 in /usr/local/lib/python3.10/dist-packages (0.3.0)\n",
            "Requirement already satisfied: datasets>=2.0.0 in /usr/local/lib/python3.10/dist-packages (from evaluate==0.3.0) (2.7.1)\n",
            "Requirement already satisfied: numpy>=1.17 in /usr/local/lib/python3.10/dist-packages (from evaluate==0.3.0) (1.23.5)\n",
            "Requirement already satisfied: dill in /usr/local/lib/python3.10/dist-packages (from evaluate==0.3.0) (0.3.6)\n",
            "Requirement already satisfied: pandas in /usr/local/lib/python3.10/dist-packages (from evaluate==0.3.0) (1.5.3)\n",
            "Requirement already satisfied: requests>=2.19.0 in /usr/local/lib/python3.10/dist-packages (from evaluate==0.3.0) (2.31.0)\n",
            "Requirement already satisfied: tqdm>=4.62.1 in /usr/local/lib/python3.10/dist-packages (from evaluate==0.3.0) (4.66.1)\n",
            "Requirement already satisfied: xxhash in /usr/local/lib/python3.10/dist-packages (from evaluate==0.3.0) (3.4.1)\n",
            "Requirement already satisfied: multiprocess in /usr/local/lib/python3.10/dist-packages (from evaluate==0.3.0) (0.70.14)\n",
            "Requirement already satisfied: fsspec[http]>=2021.05.0 in /usr/local/lib/python3.10/dist-packages (from evaluate==0.3.0) (2023.6.0)\n",
            "Requirement already satisfied: huggingface-hub>=0.7.0 in /usr/local/lib/python3.10/dist-packages (from evaluate==0.3.0) (0.19.4)\n",
            "Requirement already satisfied: packaging in /usr/local/lib/python3.10/dist-packages (from evaluate==0.3.0) (23.2)\n",
            "Requirement already satisfied: responses<0.19 in /usr/local/lib/python3.10/dist-packages (from evaluate==0.3.0) (0.18.0)\n",
            "Requirement already satisfied: pyarrow>=6.0.0 in /usr/local/lib/python3.10/dist-packages (from datasets>=2.0.0->evaluate==0.3.0) (9.0.0)\n",
            "Requirement already satisfied: aiohttp in /usr/local/lib/python3.10/dist-packages (from datasets>=2.0.0->evaluate==0.3.0) (3.8.6)\n",
            "Requirement already satisfied: pyyaml>=5.1 in /usr/local/lib/python3.10/dist-packages (from datasets>=2.0.0->evaluate==0.3.0) (6.0.1)\n",
            "Requirement already satisfied: filelock in /usr/local/lib/python3.10/dist-packages (from huggingface-hub>=0.7.0->evaluate==0.3.0) (3.13.1)\n",
            "Requirement already satisfied: typing-extensions>=3.7.4.3 in /usr/local/lib/python3.10/dist-packages (from huggingface-hub>=0.7.0->evaluate==0.3.0) (4.5.0)\n",
            "Requirement already satisfied: charset-normalizer<4,>=2 in /usr/local/lib/python3.10/dist-packages (from requests>=2.19.0->evaluate==0.3.0) (3.3.2)\n",
            "Requirement already satisfied: idna<4,>=2.5 in /usr/local/lib/python3.10/dist-packages (from requests>=2.19.0->evaluate==0.3.0) (3.4)\n",
            "Requirement already satisfied: urllib3<3,>=1.21.1 in /usr/local/lib/python3.10/dist-packages (from requests>=2.19.0->evaluate==0.3.0) (2.0.7)\n",
            "Requirement already satisfied: certifi>=2017.4.17 in /usr/local/lib/python3.10/dist-packages (from requests>=2.19.0->evaluate==0.3.0) (2023.7.22)\n",
            "Requirement already satisfied: python-dateutil>=2.8.1 in /usr/local/lib/python3.10/dist-packages (from pandas->evaluate==0.3.0) (2.8.2)\n",
            "Requirement already satisfied: pytz>=2020.1 in /usr/local/lib/python3.10/dist-packages (from pandas->evaluate==0.3.0) (2023.3.post1)\n",
            "Requirement already satisfied: attrs>=17.3.0 in /usr/local/lib/python3.10/dist-packages (from aiohttp->datasets>=2.0.0->evaluate==0.3.0) (23.1.0)\n",
            "Requirement already satisfied: multidict<7.0,>=4.5 in /usr/local/lib/python3.10/dist-packages (from aiohttp->datasets>=2.0.0->evaluate==0.3.0) (6.0.4)\n",
            "Requirement already satisfied: async-timeout<5.0,>=4.0.0a3 in /usr/local/lib/python3.10/dist-packages (from aiohttp->datasets>=2.0.0->evaluate==0.3.0) (4.0.3)\n",
            "Requirement already satisfied: yarl<2.0,>=1.0 in /usr/local/lib/python3.10/dist-packages (from aiohttp->datasets>=2.0.0->evaluate==0.3.0) (1.9.2)\n",
            "Requirement already satisfied: frozenlist>=1.1.1 in /usr/local/lib/python3.10/dist-packages (from aiohttp->datasets>=2.0.0->evaluate==0.3.0) (1.4.0)\n",
            "Requirement already satisfied: aiosignal>=1.1.2 in /usr/local/lib/python3.10/dist-packages (from aiohttp->datasets>=2.0.0->evaluate==0.3.0) (1.3.1)\n",
            "Requirement already satisfied: six>=1.5 in /usr/local/lib/python3.10/dist-packages (from python-dateutil>=2.8.1->pandas->evaluate==0.3.0) (1.16.0)\n"
          ]
        }
      ],
      "source": [
        "!pip install transformers==4.24.0\n",
        "!pip install datasets==2.7.1\n",
        "!pip install evaluate==0.3.0"
      ]
    },
    {
      "cell_type": "markdown",
      "metadata": {
        "id": "gady3WkKaT0b"
      },
      "source": [
        "## Import numpy\n",
        "We will be using numpy arrays in part of this assignment. Feel free to use the numpy package anywhere within the assignment."
      ]
    },
    {
      "cell_type": "code",
      "execution_count": null,
      "metadata": {
        "id": "YQ4qhhEdaVND"
      },
      "outputs": [],
      "source": [
        "import numpy"
      ]
    },
    {
      "cell_type": "markdown",
      "metadata": {
        "id": "uWZZjLKvaYYi"
      },
      "source": [
        "## Define pretrained BERT model\n",
        "Throughout this assignment, we'll use the `bert-base-uncased` pretrained model from 🤗 Hugging Face. This pretrained model uses the \"base\" (12-layer) architecture for BERT and preprocesses texts such that they are lowercased (and accent marks are stripped). See the model [documentation](https://huggingface.co/bert-base-uncased) for more details."
      ]
    },
    {
      "cell_type": "code",
      "execution_count": null,
      "metadata": {
        "id": "iAZB0f2CaZ1c"
      },
      "outputs": [],
      "source": [
        "pretrained_bert = 'bert-base-uncased'"
      ]
    },
    {
      "cell_type": "markdown",
      "metadata": {
        "id": "S49oG4DRatQu"
      },
      "source": [
        "##Load our working corpus, a movie review dataset\n",
        "For this assignment, we'll use another subsample of the Large Movie Review Dataset (Maas et al. ACL 2011); we used some of it in HW1. Note that this time we will load the dataset using the HuggingFace datasets package. Additionally, in this version, positive reviews are labeled as `1` and negative reviews as `0`."
      ]
    },
    {
      "cell_type": "code",
      "execution_count": null,
      "metadata": {
        "id": "nDveDr7hapSy",
        "colab": {
          "base_uri": "https://localhost:8080/",
          "height": 508,
          "referenced_widgets": [
            "4aa3f95745b24573add68e54a1d540b3",
            "05d2c83889624b4fb713da4bda724963",
            "2813e014d0d5428d80793036b501b213",
            "be17d997088b404cae376b641d1665b8",
            "eda462ed86f9469eae94b3a595599a5d",
            "12961423190f48e9b9fe09fd12216784",
            "18f1020a34af44e19a08226841dbc868",
            "8a72a637227e446a9399d160bfda9754",
            "07294fc33b474033b407b74a6a80a872",
            "1dfd95a7e95647f196672920ad82ff57",
            "0b951d7bd40642b2a411cf56b9b29bf4",
            "ac9f3044c40d44268a5faa3ca5962014",
            "d88ea284a1c64789a1a3f471b2db1e0d",
            "6fd21e8c6cd44c3bace00320bafdf868",
            "bb491f417f6c44b7a596ee58993a31d2",
            "a23a6b3ebba34dba9968fe1787f6a247",
            "dac847db559542e8bcaf4a4f04187a02",
            "4963bc986eb74fa4a1a7ed04dc7b997b",
            "4072cb1819b64431b2ac2a1b3ef34874",
            "1a80de1b3a4f43fcac8e7935738dc61c",
            "32689f1f957b4917868dcdd520553d22",
            "de068a31388a461bbe4b9eb96dcd7206",
            "b0ba9eb5cbc844a491f8865b62d2d50a",
            "d953c47d963147cd9692f1f299e96f61",
            "82a6fd81050f4842ae5e33b5eb0a9883",
            "17070ded4f4c406d890c26e8bb719572",
            "ecbc348c008f41268412eef0cfcfcea3",
            "81f7221e445b4b1a83982450159b43b0",
            "631defb181e944ae9118562ee91b14e3",
            "3aa3bd0ce74e46debaaffa036e7a86ae",
            "2e2333a21e6e406e946d11c16d789329",
            "37fc3f20594844858696094f878111a8",
            "5f357e852a0043438d937929c5c40af5",
            "35134f57951b47dc884c0a589b4a072b",
            "bd61639b32094fb7a34af436227a7468",
            "70f75655b7a8404a9a423f70a8c21847",
            "d091c66d20b240069cbe3c2302900c0c",
            "65a8974207684ef98e97f810e23c7e51",
            "d9e3e5a4e3dc4e2e8c2daf8fede7b035",
            "48c46aa66512420bb9f4bd1200583421",
            "5462aae9cfd34e77b01af5926eea9a24",
            "4af4cacd4b8b4e49988fed038d9f56be",
            "07730130de8a45ce84f14c09319918d3",
            "8159ce0ca2404f1b8b4a71b5cc889f0e",
            "60f2ace7311348f784269e22f9a430f6",
            "d88d5ef3e5964acdaf64f29d41ebb82f",
            "7d5613ff0dea43c8b710d49225e7704f",
            "8e1730d5f52a490d834dcb8405c93485",
            "b45c19a873344a129ac1cbb38c6bf335",
            "9c23b5e2c11747e085d482c3bd0b4ede",
            "4124ccf59ccd4920a833810a228e2bbe",
            "9e5d1ff7dde7421c84d76a9f3df97f44",
            "7e8ff71a14a2459b81dd78552eb84e94",
            "57c329a576d14fa88a99826a194c0821",
            "da72bd10d2f4421c94ad202a41b03ffc",
            "9df416052e1d4475a7a92e51c04796f6",
            "01f099961c014473b41a4ba1f56971bb",
            "012662d5c2be414a974f0fd16fdbafe4",
            "241f479e6271422ca946f745cdaf51df",
            "383c2a9620004ce3964ec08191bacc38",
            "367b0db7775f413a8414dd97a5dadae3",
            "38bc2a44b26b4297a2510fc6115e801c",
            "7f657f0d1d0c45be876ec261bd5a9122",
            "dc8acd295e6348fd812ab8ea131b2cb4",
            "287feb8848b94dcfb48a8e084b5b15bc",
            "88756979aade41b19ff513907400e3c6",
            "93c48995d29742b9812b8591c72d47c7",
            "73ab4fa31734444ebdfc99bfeff20d28",
            "a784e71ac9fc4960964cfb19c58d7765",
            "6d66886121d04e93b55613e5f03de93d",
            "99c47f532f3a4f409457398a1e1bd1f2",
            "8ac740c6cf724727a99ca4aa4f7b95f7",
            "15d9cd3768df4dd6b70697b42628c90f",
            "0ce7d5e794664cd9b8642f06fee2f1de",
            "c71ca431d3e740639c6d22642af8740f",
            "1d85aee1449844feb074ac9ed39d59d0",
            "d02249d7a27648cbbf9c5e7773df2ec2",
            "90d05fd1b1a541499df56d3dbd65af3f",
            "4260c4e1e07140af8577b9f26f77291f",
            "96e71a03085941a1810af8ce0a4d04fc",
            "cfc0a225f12b432f90106575c88a7efe",
            "9e7bae831c1246c5924b952dff3c52b4",
            "f33772fd43d7469abb0109b6d93c0e2b",
            "7f3ec0a0931b45d198f00f1b65da21e8",
            "1315f4707f464a1f998b7ae7569f6f52",
            "64bb546078e044b19c1fde6b3d67c8f5",
            "d1e0eec545b94672aaa51b214b2cce30",
            "1404042f2cbf46d6aa73b433078b6832"
          ]
        },
        "outputId": "70d1d2ca-ebd4-4600-9dc0-352236628c35"
      },
      "outputs": [
        {
          "output_type": "display_data",
          "data": {
            "text/plain": [
              "Downloading builder script:   0%|          | 0.00/4.31k [00:00<?, ?B/s]"
            ],
            "application/vnd.jupyter.widget-view+json": {
              "version_major": 2,
              "version_minor": 0,
              "model_id": "4aa3f95745b24573add68e54a1d540b3"
            }
          },
          "metadata": {}
        },
        {
          "output_type": "display_data",
          "data": {
            "text/plain": [
              "Downloading metadata:   0%|          | 0.00/2.17k [00:00<?, ?B/s]"
            ],
            "application/vnd.jupyter.widget-view+json": {
              "version_major": 2,
              "version_minor": 0,
              "model_id": "ac9f3044c40d44268a5faa3ca5962014"
            }
          },
          "metadata": {}
        },
        {
          "output_type": "display_data",
          "data": {
            "text/plain": [
              "Downloading readme:   0%|          | 0.00/7.59k [00:00<?, ?B/s]"
            ],
            "application/vnd.jupyter.widget-view+json": {
              "version_major": 2,
              "version_minor": 0,
              "model_id": "b0ba9eb5cbc844a491f8865b62d2d50a"
            }
          },
          "metadata": {}
        },
        {
          "output_type": "stream",
          "name": "stdout",
          "text": [
            "Downloading and preparing dataset imdb/plain_text to /root/.cache/huggingface/datasets/imdb/plain_text/1.0.0/d613c88cf8fa3bab83b4ded3713f1f74830d1100e171db75bbddb80b3345c9c0...\n"
          ]
        },
        {
          "output_type": "display_data",
          "data": {
            "text/plain": [
              "Downloading data:   0%|          | 0.00/84.1M [00:00<?, ?B/s]"
            ],
            "application/vnd.jupyter.widget-view+json": {
              "version_major": 2,
              "version_minor": 0,
              "model_id": "35134f57951b47dc884c0a589b4a072b"
            }
          },
          "metadata": {}
        },
        {
          "output_type": "display_data",
          "data": {
            "text/plain": [
              "Generating train split:   0%|          | 0/25000 [00:00<?, ? examples/s]"
            ],
            "application/vnd.jupyter.widget-view+json": {
              "version_major": 2,
              "version_minor": 0,
              "model_id": "60f2ace7311348f784269e22f9a430f6"
            }
          },
          "metadata": {}
        },
        {
          "output_type": "display_data",
          "data": {
            "text/plain": [
              "Generating test split:   0%|          | 0/25000 [00:00<?, ? examples/s]"
            ],
            "application/vnd.jupyter.widget-view+json": {
              "version_major": 2,
              "version_minor": 0,
              "model_id": "9df416052e1d4475a7a92e51c04796f6"
            }
          },
          "metadata": {}
        },
        {
          "output_type": "display_data",
          "data": {
            "text/plain": [
              "Generating unsupervised split:   0%|          | 0/50000 [00:00<?, ? examples/s]"
            ],
            "application/vnd.jupyter.widget-view+json": {
              "version_major": 2,
              "version_minor": 0,
              "model_id": "93c48995d29742b9812b8591c72d47c7"
            }
          },
          "metadata": {}
        },
        {
          "output_type": "stream",
          "name": "stdout",
          "text": [
            "Dataset imdb downloaded and prepared to /root/.cache/huggingface/datasets/imdb/plain_text/1.0.0/d613c88cf8fa3bab83b4ded3713f1f74830d1100e171db75bbddb80b3345c9c0. Subsequent calls will reuse this data.\n"
          ]
        },
        {
          "output_type": "display_data",
          "data": {
            "text/plain": [
              "  0%|          | 0/3 [00:00<?, ?it/s]"
            ],
            "application/vnd.jupyter.widget-view+json": {
              "version_major": 2,
              "version_minor": 0,
              "model_id": "90d05fd1b1a541499df56d3dbd65af3f"
            }
          },
          "metadata": {}
        }
      ],
      "source": [
        "from datasets import load_dataset\n",
        "\n",
        "dataset = load_dataset(\"imdb\")"
      ]
    },
    {
      "cell_type": "code",
      "execution_count": null,
      "metadata": {
        "id": "Dzpmdr1KcphN",
        "colab": {
          "base_uri": "https://localhost:8080/"
        },
        "outputId": "b4895bc2-2199-4cf0-bb41-f7d4d8e10bc8"
      },
      "outputs": [
        {
          "output_type": "stream",
          "name": "stdout",
          "text": [
            "train split: 750 reviews\n",
            "dev split: 250 reviews\n",
            "test split: 250 reviews\n"
          ]
        }
      ],
      "source": [
        "NUM_TRAIN = 750\n",
        "NUM_DEV = 250\n",
        "NUM_TEST = 250\n",
        "\n",
        "def build_split(dataset, n_samples, offset=0):\n",
        "  class_size = n_samples // 2\n",
        "  # Get negative samples\n",
        "  texts = dataset['text'][offset:class_size+offset]\n",
        "  labels = dataset['label'][offset:class_size+offset]\n",
        "  # Get positive samples\n",
        "  texts += dataset['text'][-offset-class_size:]\n",
        "  labels += dataset['label'][-offset-class_size:]\n",
        "  if offset:\n",
        "    texts = texts[:-offset]\n",
        "    labels = labels[:-offset]\n",
        "  return texts, labels\n",
        "\n",
        "\n",
        "# Training data\n",
        "train_texts, train_labels = build_split(dataset['train'], NUM_TRAIN)\n",
        "test_texts, test_labels = build_split(dataset['test'], NUM_TEST)\n",
        "dev_texts, dev_labels = build_split(dataset['test'], NUM_DEV, offset=NUM_TEST)\n",
        "\n",
        "print(\"train split: {} reviews\".format(len(train_labels)))\n",
        "print(\"dev split: {} reviews\".format(len(dev_labels)))\n",
        "print(\"test split: {} reviews\".format(len(test_labels)))"
      ]
    },
    {
      "cell_type": "markdown",
      "metadata": {
        "id": "XyLGFGdv_NAt"
      },
      "source": [
        "## Define confidence interval method\n",
        "For this assignment we will compute confidence intervals for accuracy measurements using a normal approximation. If you used the bootstrap, it would calculate a very similar CI."
      ]
    },
    {
      "cell_type": "code",
      "execution_count": null,
      "metadata": {
        "id": "ZmG0SIym_MP7"
      },
      "outputs": [],
      "source": [
        "import scipy\n",
        "\n",
        "def get_confidence_intervals(accuracy, sample_size, confidence_level):\n",
        "  \"\"\" calling this with arguments (0.8, 100, .95) returns\n",
        "  the lower and upper bounds of a 95% confidence interval\n",
        "  around the accuracy of 0.8 on a test set of size 100.\"\"\"\n",
        "  z_score = -1 * scipy.stats.norm.ppf((1-confidence_level)/2)\n",
        "  standard_error = numpy.sqrt(accuracy * (1-accuracy) / sample_size)\n",
        "  lower_ci = accuracy - standard_error*z_score\n",
        "  upper_ci = accuracy + standard_error*z_score\n",
        "  return lower_ci, upper_ci"
      ]
    },
    {
      "cell_type": "code",
      "source": [
        "# Example: if you had 80% accuracy on an N=250 sized test set, your CI is [75.0%...85.0%]\n",
        "get_confidence_intervals(0.8, 250, .95)"
      ],
      "metadata": {
        "id": "MHc4ep09fAin",
        "colab": {
          "base_uri": "https://localhost:8080/"
        },
        "outputId": "032da65e-bbb2-42eb-885f-406eaa1f2ee1"
      },
      "execution_count": null,
      "outputs": [
        {
          "output_type": "execute_result",
          "data": {
            "text/plain": [
              "(0.7504163974156352, 0.8495836025843649)"
            ]
          },
          "metadata": {},
          "execution_count": 13
        }
      ]
    },
    {
      "cell_type": "code",
      "source": [
        "# Example: For a much larger test set, your CI is much smaller\n",
        "get_confidence_intervals(0.8, 10000, .95)"
      ],
      "metadata": {
        "id": "ZsPyNFjxfTi9",
        "colab": {
          "base_uri": "https://localhost:8080/"
        },
        "outputId": "f783a908-f2f1-4729-bf42-0e9004ba62bb"
      },
      "execution_count": null,
      "outputs": [
        {
          "output_type": "execute_result",
          "data": {
            "text/plain": [
              "(0.7921601440618399, 0.8078398559381602)"
            ]
          },
          "metadata": {},
          "execution_count": 14
        }
      ]
    },
    {
      "cell_type": "markdown",
      "metadata": {
        "id": "-YKyvsuYXmFQ"
      },
      "source": [
        "# Part 1: Using BERT features for Text Classification (25 points)\n",
        "In this part, we'll use extracted BERT features for text classification. We will extract these features from the raw hidden states of different layers."
      ]
    },
    {
      "cell_type": "markdown",
      "metadata": {
        "id": "Oqj4z9-vQBka"
      },
      "source": [
        "##Checking for a GPU\n",
        "While this part of the homework can be run without a GPU, it will take much longer. Specifically, extracting the hidden states from each layer in our pretrained BERT model in Question 1.1 will take over 30 minutes with a CPU, but only a few minutes with a GPU.\n",
        "\n",
        "Refer back to section \"Adding hardware accelerator\" in Part 0.\n",
        "\n"
      ]
    },
    {
      "cell_type": "code",
      "execution_count": null,
      "metadata": {
        "id": "tCfCgPMkQBkb",
        "colab": {
          "base_uri": "https://localhost:8080/"
        },
        "outputId": "134b4695-2274-40b8-bac4-75abdb5a924e"
      },
      "outputs": [
        {
          "output_type": "stream",
          "name": "stdout",
          "text": [
            "GPU detected.\n"
          ]
        }
      ],
      "source": [
        "if not torch.cuda.is_available():\n",
        "  print(\"WARNING: No GPU detected. Add a GPU.\")\n",
        "else:\n",
        "  print(\"GPU detected.\")"
      ]
    },
    {
      "cell_type": "markdown",
      "metadata": {
        "id": "-QDvo4invMXx"
      },
      "source": [
        "## Loading BERT model\n",
        "For this part, we'll use a pretrained BERT model, specifically the 🤗 `BertModel` that outputs the raw hidden states of BERT without any specific head top. Refer to the 🤗 [documentation](https://huggingface.co/transformers/model_doc/bert.html#bertmodel) for more detail."
      ]
    },
    {
      "cell_type": "code",
      "execution_count": null,
      "metadata": {
        "id": "NEUPq3BPYQ1b"
      },
      "outputs": [],
      "source": [
        "from transformers import AutoTokenizer, BertModel\n",
        "\n",
        "device = torch.device(\"cuda\" if torch.cuda.is_available() else \"cpu\")\n",
        "tokenizer = AutoTokenizer.from_pretrained(pretrained_bert)\n",
        "model = BertModel.from_pretrained(pretrained_bert,\n",
        "                                  output_hidden_states=True).to(device)"
      ]
    },
    {
      "cell_type": "markdown",
      "metadata": {
        "id": "KD87dL4yvHWM"
      },
      "source": [
        "## Question 1.1 (5 points)\n",
        "First, we need to extract BERT features for each document in our dataset (i.e., movie review). For each document, we'll feed its (truncated) text into BERT and extract the raw hidden states of the [CLS] token for all 12 layers of the model to use as our features. We'll use the function `extract_bert_features` to extract these features for a collection of texts. The function `extract_bert_features` takes a list of texts `input_text` as input and outputs a numpy array corresponding to the extracted features of these texts."
      ]
    },
    {
      "cell_type": "markdown",
      "metadata": {
        "id": "Eb_ZBIiuxerZ"
      },
      "source": [
        "In the following code cell, complete the implementation of `extract_bert_features`. More specifically, your code must extract the raw hidden states of the [CLS] token for each layer from `hidden_states` and arrange these into the `feature` variable such that it is a numpy array with shape (# layers = 12, hidden_size = 768).\n",
        "\n",
        "HINTS\n",
        "- The `hidden_states` of a `BertModel` is a tuple of length 13 rather than 12 becaue it also contains the embedding layer of BERT. The hidden states for the embedding layer are the *first* element in `hidden_states` followed by the hidden states of the following layers (from 1 to 12).\n",
        "- The hidden states for each layer within `hidden_states` (i.e. an element of `hidden_states`) are represented as an array with the following shape (# batches, # tokens, hidden_size = 768). We are only running a single batch through BERT, so each layers hidden state array will have a shape of (1, # tokens, hidden_size = 768).\n",
        "- To convert a PyTorch tensor to a numpy array, use the following command `[tensor].detach().cpu().numpy()`\n",
        "- Use the `torch.stack` and `numpy.stack` to \"stack\" Pytorch tensors and Numpy arrays along a new dimension. By default this will be the first dimension of the resulting array. (See documentation: [PyTorch](https://pytorch.org/docs/stable/generated/torch.stack.html), [numpy](https://numpy.org/doc/stable/reference/generated/numpy.stack.html))\n",
        "- It will take several minutes to extract the features for our training and test sets. Generally, it should be take under 3 minutes using a GPU. (It will take *much* longer using a CPU, over 30 minutes)\n",
        "- Consider using a CPU while writing /debugging your code; just make sure to quit early (e.g., after extracting a single features for a single document or the hidden states for a single layer)."
      ]
    },
    {
      "cell_type": "code",
      "execution_count": null,
      "metadata": {
        "id": "VUiNV-1srZqo"
      },
      "outputs": [],
      "source": [
        "def extract_bert_features(input_texts):\n",
        "  features = []\n",
        "  for i, text in enumerate(input_texts):\n",
        "    input = tokenizer.encode(text, truncation=True,\n",
        "                             return_tensors=\"pt\").to(device)\n",
        "    hidden_states = model(input).hidden_states\n",
        "    feature = None\n",
        "    # YOUR CODE HERE!\n",
        "    cls=[layer[0,0,:] for layer in hidden_states[1:]]\n",
        "    feature=torch.stack(cls).detach().cpu().numpy()\n",
        "\n",
        "\n",
        "\n",
        "    assert feature.shape == (12, 768)\n",
        "    features.append(feature)\n",
        "\n",
        "  return numpy.stack(features)"
      ]
    },
    {
      "cell_type": "code",
      "execution_count": null,
      "metadata": {
        "id": "hmAdJqNSyQ8o",
        "colab": {
          "base_uri": "https://localhost:8080/"
        },
        "outputId": "779e5066-8c8e-4709-d616-20d63b0fa90b"
      },
      "outputs": [
        {
          "output_type": "stream",
          "name": "stdout",
          "text": [
            "Extracted features in 0.5 minutes\n"
          ]
        }
      ],
      "source": [
        "# Extract features for the training and test sets\n",
        "from timeit import default_timer as timer\n",
        "\n",
        "start = timer()\n",
        "train_features = extract_bert_features(train_texts)\n",
        "test_features = extract_bert_features(test_texts)\n",
        "end = timer()\n",
        "print(\"Extracted features in {:.1f} minutes\".format((end-start)/60))\n",
        "\n",
        "assert train_features.shape == (NUM_TRAIN, 12, 768)\n",
        "assert test_features.shape == (NUM_TEST, 12, 768)"
      ]
    },
    {
      "cell_type": "markdown",
      "metadata": {
        "id": "2LE5y_FB-HtG"
      },
      "source": [
        "## Question 1.2 (5 points)\n",
        "BERT accepts token sequences up to 512 tokens in length (including special tokens). In order to handle longer movie reviews, we *truncated* these reviews to 510 tokens."
      ]
    },
    {
      "cell_type": "markdown",
      "metadata": {
        "id": "hYzJ-a0nv3-q"
      },
      "source": [
        "#### Question 1.2.1 (2 points)\n",
        "How often are reviews in our dataset truncated? In the following code cell, write code that calculates the number of reviews truncated in the training and test splits (i.e., `train_texts`, `test_texts`)\n",
        "\n",
        "HINT: Use the tokenizer's [`tokenize`](https://huggingface.co/docs/transformers/v4.24.0/en/internal/tokenization_utils#transformers.PreTrainedTokenizerBase.tokenize) method."
      ]
    },
    {
      "cell_type": "code",
      "execution_count": null,
      "metadata": {
        "id": "ozO2b5GN-IVE",
        "colab": {
          "base_uri": "https://localhost:8080/"
        },
        "outputId": "f9ddec67-bc2f-4458-bc3b-29ab855ab532"
      },
      "outputs": [
        {
          "output_type": "stream",
          "name": "stderr",
          "text": [
            "Token indices sequence length is longer than the specified maximum sequence length for this model (718 > 512). Running this sequence through the model will result in indexing errors\n"
          ]
        },
        {
          "output_type": "stream",
          "name": "stdout",
          "text": [
            "train: 104 reviews truncated\n",
            "test: 41 reviews truncated\n"
          ]
        }
      ],
      "source": [
        "train_truncated = 0\n",
        "test_truncated = 0\n",
        "\n",
        "# YOUR CODE HERE!\n",
        "max=510\n",
        "for text in train_texts:\n",
        "  tokens=tokenizer.tokenize(text)\n",
        "  if len(tokens)>max:\n",
        "    train_truncated+=1\n",
        "for text in test_texts:\n",
        "  tokens=tokenizer.tokenize(text)\n",
        "  if len(tokens)>max:\n",
        "    test_truncated+=1\n",
        "\n",
        "\n",
        "print(\"train: {} reviews truncated\".format(train_truncated))\n",
        "print(\"test: {} reviews truncated\".format(test_truncated))"
      ]
    },
    {
      "cell_type": "markdown",
      "metadata": {
        "id": "-0uo4XSF-U-7"
      },
      "source": [
        "### Question 1.2.2 (3 points)\n",
        "Why might truncation be problematic for our classification task? Explain your reasoning."
      ]
    },
    {
      "cell_type": "markdown",
      "metadata": {
        "id": "mjs1gg4a-bGw"
      },
      "source": [
        "**1. **"
      ]
    },
    {
      "cell_type": "markdown",
      "metadata": {
        "id": "3Pbhal_W-f3f"
      },
      "source": [
        "## Question 1.3 (5 points)\n",
        "Now, let's compare the performance of the extracted features from different layers. For each layer, use the layer's hidden states stored in `train_features` to train a [`LogisticRegression`](https://scikit-learn.org/stable/modules/generated/sklearn.linear_model.LogisticRegression.html) model, then predict the labels of the test reviews using the layer's extracted features in `test_features`. Store these predictions in `y_pred`, so the code cell will print the resulting classification accuracy for each layer's features.\n",
        "\n",
        "HINT: For all the layers, you should get accuracies in the 60s and 70s."
      ]
    },
    {
      "cell_type": "code",
      "execution_count": null,
      "metadata": {
        "id": "oG4obrNL-RNi",
        "colab": {
          "base_uri": "https://localhost:8080/"
        },
        "outputId": "073d6cf6-4a81-4f87-fdfe-8baa65da3db6"
      },
      "outputs": [
        {
          "output_type": "stream",
          "name": "stdout",
          "text": [
            "Layer 1: 0.672 accuracy, 95% CI [0.614, 0.730]\n",
            "Layer 2: 0.728 accuracy, 95% CI [0.673, 0.783]\n",
            "Layer 3: 0.720 accuracy, 95% CI [0.664, 0.776]\n",
            "Layer 4: 0.664 accuracy, 95% CI [0.605, 0.723]\n",
            "Layer 5: 0.656 accuracy, 95% CI [0.597, 0.715]\n",
            "Layer 6: 0.736 accuracy, 95% CI [0.681, 0.791]\n",
            "Layer 7: 0.740 accuracy, 95% CI [0.686, 0.794]\n",
            "Layer 8: 0.772 accuracy, 95% CI [0.720, 0.824]\n",
            "Layer 9: 0.756 accuracy, 95% CI [0.703, 0.809]\n",
            "Layer 10: 0.776 accuracy, 95% CI [0.724, 0.828]\n",
            "Layer 11: 0.768 accuracy, 95% CI [0.716, 0.820]\n",
            "Layer 12: 0.776 accuracy, 95% CI [0.724, 0.828]\n"
          ]
        }
      ],
      "source": [
        "from sklearn.linear_model import LogisticRegression\n",
        "\n",
        "for i in range(12):\n",
        "  y_pred = None\n",
        "\n",
        "  lr_model = LogisticRegression(max_iter=1000)\n",
        "  # YOUR CODE HERE!\n",
        "  train_layer_features = train_features[:, i, :]\n",
        "  test_layer_features = test_features[:, i, :]\n",
        "  lr_model.fit(train_layer_features, train_labels)\n",
        "\n",
        "  y_pred = lr_model.predict(test_layer_features)\n",
        "  acc = (y_pred == test_labels).sum() / len(test_labels)\n",
        "\n",
        "\n",
        "  acc = (y_pred == test_labels).sum()/len(test_labels)\n",
        "  print(\"Layer {}: {:.3f} accuracy, 95% CI [{:.3f}, {:.3f}]\".format(i+1, acc, *get_confidence_intervals(acc, NUM_TEST, 0.95)))"
      ]
    },
    {
      "cell_type": "markdown",
      "metadata": {
        "id": "q6vqS58xLYVd"
      },
      "source": [
        "## Question 1.4 (5 points)\n",
        "According to your results from Question 1.3, which layers perform best and which perform worst? Taking into consideration the 95% confidence intervals of the test accuracy results, are the performance differences between layers appear that significant / meaningful? Explain your reasoning."
      ]
    },
    {
      "cell_type": "markdown",
      "metadata": {
        "id": "J5dIZZ6TL3DY"
      },
      "source": [
        "**WRITE YOUR ANSWER HERE**"
      ]
    },
    {
      "cell_type": "markdown",
      "metadata": {
        "id": "17nWQomP-klj"
      },
      "source": [
        "## Question 1.5 (5 points)\n",
        "In this problem, we represented a text by the extracted BERT features of the [CLS] token. However, there are other strategies. A popular option is to *average* the embeddings of all tokens of the input sequence. Do you think these alternative features will be more suitable better for our classification task than using the [CLS] features? Why or why not?"
      ]
    },
    {
      "cell_type": "markdown",
      "metadata": {
        "id": "poQSnEAb-kp3"
      },
      "source": [
        "**WRITE YOUR ANSWER HERE**"
      ]
    },
    {
      "cell_type": "markdown",
      "metadata": {
        "id": "x58bz8GY-owH"
      },
      "source": [
        "## Question 1.6 (Extra Credit: 5 points)\n",
        "How could we construct a 768-dimensional embedding for a long movie review without truncating the review? Design and describe a method for doing so."
      ]
    },
    {
      "cell_type": "markdown",
      "metadata": {
        "id": "u2P_MoY5OOI0"
      },
      "source": [
        "**WRITE YOUR ANSWER HERE**"
      ]
    },
    {
      "cell_type": "markdown",
      "metadata": {
        "id": "KnTDV7_0-4o1"
      },
      "source": [
        "# Part 2: Fine-Tuning BERT for Text Classification (25 points)\n",
        "In this part, we'll perform the same text classification task as Part 1, but this time we'll fine-tune BERT rather than using extracted BERT features.\n",
        "\n",
        "**Be sure to use a GPU for this portion of the homework.**"
      ]
    },
    {
      "cell_type": "markdown",
      "metadata": {
        "id": "a84NwRzbYE72"
      },
      "source": [
        "##Checking for a GPU\n",
        "In this part of the homework we will need a GPU, otherwise it'll take a really long time to extract features. Refer back to section \"Adding hardware accelerator\" in Part 0."
      ]
    },
    {
      "cell_type": "code",
      "execution_count": null,
      "metadata": {
        "id": "JWqTFKPMXiLs"
      },
      "outputs": [],
      "source": [
        "if not torch.cuda.is_available():\n",
        "  print(\"ERROR: No GPU detected. Add a GPU.\")\n",
        "  assert torch.cuda.is_available()"
      ]
    },
    {
      "cell_type": "markdown",
      "metadata": {
        "id": "CXgMIhxh-_j9"
      },
      "source": [
        "## Question 2.1 (5 points)\n",
        "When fine-tuning BERT, we need to choose our hyperparameters carefully. In order to perform a proper hyperparameter search, we need a validation set.\n",
        "Why is it important to have a distinct validation set in addition to our training and test sets?"
      ]
    },
    {
      "cell_type": "markdown",
      "metadata": {
        "id": "t-9GDJrp-_mH"
      },
      "source": [
        "**WRITE YOUR ANSWER HERE**"
      ]
    },
    {
      "cell_type": "markdown",
      "metadata": {
        "id": "n7To_tZp_dQa"
      },
      "source": [
        "##Setup: Preparing our dataset for fine-tuning BERT\n"
      ]
    },
    {
      "cell_type": "markdown",
      "metadata": {
        "id": "1MpJwMM0GiW-"
      },
      "source": [
        "### Preparing our datasets for fine-tuning BERT"
      ]
    },
    {
      "cell_type": "code",
      "execution_count": null,
      "metadata": {
        "id": "sznK5UGEGmUT"
      },
      "outputs": [],
      "source": [
        "from transformers import AutoTokenizer\n",
        "\n",
        "tokenizer = AutoTokenizer.from_pretrained(pretrained_bert)"
      ]
    },
    {
      "cell_type": "code",
      "execution_count": null,
      "metadata": {
        "id": "52aDAa_BGogX"
      },
      "outputs": [],
      "source": [
        "from torch.utils.data import Dataset, DataLoader\n",
        "\n",
        "class MovieReviewDataset(torch.utils.data.Dataset):\n",
        "  def __init__(self, encodings, labels):\n",
        "    self.encodings = encodings\n",
        "    self.labels = labels\n",
        "    self.tokenizer = tokenizer\n",
        "\n",
        "  def __getitem__(self, idx):\n",
        "    item = {key: torch.tensor(val[idx]) for key, val in self.encodings.items()}\n",
        "    item['labels'] = torch.tensor(self.labels[idx])\n",
        "    return item\n",
        "\n",
        "  def __len__(self):\n",
        "    return len(self.labels)\n",
        "\n",
        "train_encodings = tokenizer(train_texts, truncation=True)\n",
        "dev_encodings = tokenizer(dev_texts, truncation=True)\n",
        "test_encodings = tokenizer(test_texts, truncation=True)\n",
        "\n",
        "train_dataset = MovieReviewDataset(train_encodings, train_labels)\n",
        "dev_dataset = MovieReviewDataset(dev_encodings, dev_labels)\n",
        "test_dataset = MovieReviewDataset(test_encodings, test_labels)"
      ]
    },
    {
      "cell_type": "markdown",
      "metadata": {
        "id": "Y5XjfebZGqB4"
      },
      "source": [
        "### Defining a method to support computing and reporting metrics"
      ]
    },
    {
      "cell_type": "code",
      "execution_count": null,
      "metadata": {
        "id": "jI_S7ZXkGqlj",
        "colab": {
          "base_uri": "https://localhost:8080/",
          "height": 111,
          "referenced_widgets": [
            "30dbbb6758ff4560bcd35f4ced84c55f",
            "51bb8476568849fb90cc0170b34cf6f3",
            "410491ca35b14787b450d7bb9a443a86",
            "b7fda4efb7f849ee8dba9c674f42193f",
            "5abaf33a06084817bf15796e1ed06584",
            "174895eba18c422c89f7bf60889cf7e7",
            "6ffeaa7888ce4e63bed49cbf0ca66654",
            "ecb3b958e5f84b34a7cd3a9b1dbfb8a8",
            "81aca20fdb3346e9911d4bab5381b9e7",
            "4d915f27076d4fa68d6793aef0ad1adc",
            "4408717a1fde4e46a7ee38feb52a8b5d"
          ]
        },
        "outputId": "d25b7286-71a0-4404-89ec-a2d39df75a40"
      },
      "outputs": [
        {
          "output_type": "stream",
          "name": "stderr",
          "text": [
            "/usr/local/lib/python3.10/dist-packages/transformers/utils/import_utils.py:1263: FutureWarning: The method `torch_required` is deprecated and will be removed in v4.36. Use `requires_backends` instead.\n"
          ]
        },
        {
          "output_type": "display_data",
          "data": {
            "text/plain": [
              "Downloading builder script:   0%|          | 0.00/4.20k [00:00<?, ?B/s]"
            ],
            "application/vnd.jupyter.widget-view+json": {
              "version_major": 2,
              "version_minor": 0,
              "model_id": "30dbbb6758ff4560bcd35f4ced84c55f"
            }
          },
          "metadata": {}
        }
      ],
      "source": [
        "# Source: https://huggingface.co/transformers/training.html\n",
        "import evaluate\n",
        "\n",
        "metric = evaluate.load(\"accuracy\")\n",
        "\n",
        "def compute_metrics(eval_pred):\n",
        "    logits, labels = eval_pred\n",
        "    predictions = numpy.argmax(logits, axis=-1)\n",
        "    return metric.compute(predictions=predictions, references=labels)"
      ]
    },
    {
      "cell_type": "markdown",
      "metadata": {
        "id": "9SjLN_e5PBpu"
      },
      "source": [
        "### Defining a method for instantiating BERT Model for fine-tuning procedure"
      ]
    },
    {
      "cell_type": "code",
      "execution_count": null,
      "metadata": {
        "id": "ulT4U2TNPTMd"
      },
      "outputs": [],
      "source": [
        "from transformers import AutoModelForSequenceClassification\n",
        "\n",
        "def model_init():\n",
        "  return AutoModelForSequenceClassification.from_pretrained(\n",
        "    pretrained_bert, num_labels=2)"
      ]
    },
    {
      "cell_type": "markdown",
      "metadata": {
        "id": "U-mWYURhGsox"
      },
      "source": [
        "## Fine-tuning BERT\n",
        "We can fine-tune our BERT model using a `Trainer` object ([documentation](https://huggingface.co/transformers/main_classes/trainer.html)). To build a `Trainer` object, we need to provide a `TrainingArguments` object ([documentation](https://huggingface.co/transformers/main_classes/trainer.html#trainingarguments)), which is where we can specify hyperparameter settings and other training details.\n",
        "\n",
        "Running the following code cell should take around 3 minutes."
      ]
    },
    {
      "cell_type": "code",
      "execution_count": null,
      "metadata": {
        "id": "BqfjkIe4Gukv",
        "colab": {
          "base_uri": "https://localhost:8080/",
          "height": 556
        },
        "outputId": "867cd56d-2934-45c8-d286-8888f776cca0"
      },
      "outputs": [
        {
          "output_type": "error",
          "ename": "ImportError",
          "evalue": "ignored",
          "traceback": [
            "\u001b[0;31m---------------------------------------------------------------------------\u001b[0m",
            "\u001b[0;31mImportError\u001b[0m                               Traceback (most recent call last)",
            "\u001b[0;32m<ipython-input-27-1f71c94cf26c>\u001b[0m in \u001b[0;36m<cell line: 3>\u001b[0;34m()\u001b[0m\n\u001b[1;32m      1\u001b[0m \u001b[0;32mfrom\u001b[0m \u001b[0mtransformers\u001b[0m \u001b[0;32mimport\u001b[0m \u001b[0mTrainer\u001b[0m\u001b[0;34m,\u001b[0m \u001b[0mTrainingArguments\u001b[0m\u001b[0;34m\u001b[0m\u001b[0;34m\u001b[0m\u001b[0m\n\u001b[1;32m      2\u001b[0m \u001b[0;34m\u001b[0m\u001b[0m\n\u001b[0;32m----> 3\u001b[0;31m training_args = TrainingArguments(\n\u001b[0m\u001b[1;32m      4\u001b[0m     \u001b[0moutput_dir\u001b[0m\u001b[0;34m=\u001b[0m\u001b[0;34m'./results'\u001b[0m\u001b[0;34m,\u001b[0m         \u001b[0;31m# output directory\u001b[0m\u001b[0;34m\u001b[0m\u001b[0;34m\u001b[0m\u001b[0m\n\u001b[1;32m      5\u001b[0m     \u001b[0mnum_train_epochs\u001b[0m\u001b[0;34m=\u001b[0m\u001b[0;36m2\u001b[0m\u001b[0;34m,\u001b[0m             \u001b[0;31m# total number of training epochs\u001b[0m\u001b[0;34m\u001b[0m\u001b[0;34m\u001b[0m\u001b[0m\n",
            "\u001b[0;32m/usr/local/lib/python3.10/dist-packages/transformers/training_args.py\u001b[0m in \u001b[0;36m__init__\u001b[0;34m(self, output_dir, overwrite_output_dir, do_train, do_eval, do_predict, evaluation_strategy, prediction_loss_only, per_device_train_batch_size, per_device_eval_batch_size, per_gpu_train_batch_size, per_gpu_eval_batch_size, gradient_accumulation_steps, eval_accumulation_steps, eval_delay, learning_rate, weight_decay, adam_beta1, adam_beta2, adam_epsilon, max_grad_norm, num_train_epochs, max_steps, lr_scheduler_type, warmup_ratio, warmup_steps, log_level, log_level_replica, log_on_each_node, logging_dir, logging_strategy, logging_first_step, logging_steps, logging_nan_inf_filter, save_strategy, save_steps, save_total_limit, save_safetensors, save_on_each_node, no_cuda, use_cpu, use_mps_device, seed, data_seed, jit_mode_eval, use_ipex, bf16, fp16, fp16_opt_level, half_precision_backend, bf16_full_eval, fp16_full_eval, tf32, local_rank, ddp_backend, tpu_num_cores, tpu_metrics_debug, debug, dataloader_drop_last, eval_steps, dataloader_num_workers, past_index, run_name, disable_tqdm, remove_unused_columns, label_names, load_best_model_at_end, metric_for_best_model, greater_is_better, ignore_data_skip, fsdp, fsdp_min_num_params, fsdp_config, fsdp_transformer_layer_cls_to_wrap, deepspeed, label_smoothing_factor, optim, optim_args, adafactor, group_by_length, length_column_name, report_to, ddp_find_unused_parameters, ddp_bucket_cap_mb, ddp_broadcast_buffers, dataloader_pin_memo...\n",
            "\u001b[0;32m/usr/local/lib/python3.10/dist-packages/transformers/training_args.py\u001b[0m in \u001b[0;36m__post_init__\u001b[0;34m(self)\u001b[0m\n\u001b[1;32m   1440\u001b[0m                             \u001b[0;34m\"We strongly recommend to install PyTorch >= 1.13 (nightly version at the time of writing)\"\u001b[0m\u001b[0;34m\u001b[0m\u001b[0;34m\u001b[0m\u001b[0m\n\u001b[1;32m   1441\u001b[0m                             \u001b[0;34m\" on your MacOS machine. It has major fixes related to model correctness and performance\"\u001b[0m\u001b[0;34m\u001b[0m\u001b[0;34m\u001b[0m\u001b[0m\n\u001b[0;32m-> 1442\u001b[0;31m                             \u001b[0;34m\" improvements for transformer based models. Please refer to\"\u001b[0m\u001b[0;34m\u001b[0m\u001b[0;34m\u001b[0m\u001b[0m\n\u001b[0m\u001b[1;32m   1443\u001b[0m                             \u001b[0;34m\" https://github.com/pytorch/pytorch/issues/82707 for more details.\"\u001b[0m\u001b[0;34m\u001b[0m\u001b[0;34m\u001b[0m\u001b[0m\n\u001b[1;32m   1444\u001b[0m                         )\n",
            "\u001b[0;32m/usr/local/lib/python3.10/dist-packages/transformers/training_args.py\u001b[0m in \u001b[0;36mdevice\u001b[0;34m(self)\u001b[0m\n",
            "\u001b[0;32m/usr/local/lib/python3.10/dist-packages/transformers/utils/generic.py\u001b[0m in \u001b[0;36m__get__\u001b[0;34m(self, obj, objtype)\u001b[0m\n\u001b[1;32m     52\u001b[0m         \u001b[0;32mif\u001b[0m \u001b[0mself\u001b[0m\u001b[0;34m.\u001b[0m\u001b[0mfget\u001b[0m \u001b[0;32mis\u001b[0m \u001b[0;32mNone\u001b[0m\u001b[0;34m:\u001b[0m\u001b[0;34m\u001b[0m\u001b[0;34m\u001b[0m\u001b[0m\n\u001b[1;32m     53\u001b[0m             \u001b[0;32mraise\u001b[0m \u001b[0mAttributeError\u001b[0m\u001b[0;34m(\u001b[0m\u001b[0;34m\"unreadable attribute\"\u001b[0m\u001b[0;34m)\u001b[0m\u001b[0;34m\u001b[0m\u001b[0;34m\u001b[0m\u001b[0m\n\u001b[0;32m---> 54\u001b[0;31m         \u001b[0mattr\u001b[0m \u001b[0;34m=\u001b[0m \u001b[0;34m\"__cached_\"\u001b[0m \u001b[0;34m+\u001b[0m \u001b[0mself\u001b[0m\u001b[0;34m.\u001b[0m\u001b[0mfget\u001b[0m\u001b[0;34m.\u001b[0m\u001b[0m__name__\u001b[0m\u001b[0;34m\u001b[0m\u001b[0;34m\u001b[0m\u001b[0m\n\u001b[0m\u001b[1;32m     55\u001b[0m         \u001b[0mcached\u001b[0m \u001b[0;34m=\u001b[0m \u001b[0mgetattr\u001b[0m\u001b[0;34m(\u001b[0m\u001b[0mobj\u001b[0m\u001b[0;34m,\u001b[0m \u001b[0mattr\u001b[0m\u001b[0;34m,\u001b[0m \u001b[0;32mNone\u001b[0m\u001b[0;34m)\u001b[0m\u001b[0;34m\u001b[0m\u001b[0;34m\u001b[0m\u001b[0m\n\u001b[1;32m     56\u001b[0m         \u001b[0;32mif\u001b[0m \u001b[0mcached\u001b[0m \u001b[0;32mis\u001b[0m \u001b[0;32mNone\u001b[0m\u001b[0;34m:\u001b[0m\u001b[0;34m\u001b[0m\u001b[0;34m\u001b[0m\u001b[0m\n",
            "\u001b[0;32m/usr/local/lib/python3.10/dist-packages/transformers/training_args.py\u001b[0m in \u001b[0;36m_setup_devices\u001b[0;34m(self)\u001b[0m\n",
            "\u001b[0;31mImportError\u001b[0m: Using the `Trainer` with `PyTorch` requires `accelerate>=0.20.1`: Please run `pip install transformers[torch]` or `pip install accelerate -U`",
            "",
            "\u001b[0;31m---------------------------------------------------------------------------\u001b[0;32m\nNOTE: If your import is failing due to a missing package, you can\nmanually install dependencies using either !pip or !apt.\n\nTo view examples of installing some common dependencies, click the\n\"Open Examples\" button below.\n\u001b[0;31m---------------------------------------------------------------------------\u001b[0m\n"
          ],
          "errorDetails": {
            "actions": [
              {
                "action": "open_url",
                "actionText": "Open Examples",
                "url": "/notebooks/snippets/importing_libraries.ipynb"
              }
            ]
          }
        }
      ],
      "source": [
        "from transformers import Trainer, TrainingArguments\n",
        "\n",
        "training_args = TrainingArguments(\n",
        "    output_dir='./results',         # output directory\n",
        "    num_train_epochs=2,             # total number of training epochs\n",
        "    per_device_train_batch_size=8,  # batch size per device during training\n",
        "    per_device_eval_batch_size=64,  # batch size for evaluation\n",
        "    evaluation_strategy=\"epoch\",    # evaluation occurs after each epoch\n",
        "    logging_dir='./logs',           # directory for storing logs\n",
        "    logging_strategy=\"epoch\",       # logging occurs after each epoch\n",
        "    log_level=\"error\",            # set logging level\n",
        "    optim=\"adamw_torch\",            # use pytorch's adamw implementation\n",
        "    # YOUR CODE HERE!\n",
        "    learning_rate=4e-5,\n",
        "    seed=44\n",
        "\n",
        "\n",
        ")\n",
        "\n",
        "trainer = Trainer(\n",
        "    model_init=model_init,            # method instantiates model to be trained\n",
        "    args=training_args,               # training arguments, defined above\n",
        "    train_dataset=train_dataset,      # training dataset\n",
        "    eval_dataset=dev_dataset,         # evaluation dataset\n",
        "    compute_metrics=compute_metrics,  # function to be used in evaluation\n",
        "    tokenizer=tokenizer,              # enable dynamic padding\n",
        ")\n",
        "\n",
        "trainer.train()\n",
        "val_accuracy = trainer.evaluate()['eval_accuracy']\n",
        "\n",
        "print()\n",
        "print()\n",
        "print(\"FINAL: Validation Accuracy {:.3f}, 95% CI [{:.3f}, {:.3f}]\".format(val_accuracy, *get_confidence_intervals(val_accuracy, NUM_DEV, 0.95)))"
      ]
    },
    {
      "cell_type": "markdown",
      "metadata": {
        "id": "WA86GDy0GyAJ"
      },
      "source": [
        "## Question 2.2 (5 points)\n",
        "Selecting a good learning rate is very important for fine-tuning. Among all the many hyperparameters, you should at least try varying this one. Let's try adjusting the learning rate to see which setting performs best. **Fine-tune BERT with the following learning rates: 2e-5, 3e-5, 4e-5, 5e-5.** To adjust the learning rate, set the `learning_rate` parameter of your `TrainingArguments` object. By default, it's `5e-5`.\n",
        "\n",
        "Report the resulting validation accuracy (i.e., after last epoch of training) for each learning rate in the table below."
      ]
    },
    {
      "cell_type": "markdown",
      "metadata": {
        "id": "p8PZkM5RG7l6"
      },
      "source": [
        "| Learning Rate | Validation Accuracy (%) | 95% Confidence Interval (%) |\n",
        "| :-: | :-: | :-: |\n",
        "| 2e-5 | 0.860000 | \\[ 0.817, 0.903 \\] |\n",
        "| 3e-5 | 0.884 | \\[ 0.844, 0.924 \\] |\n",
        "| 4e-5 | 0.884 | \\[ 0.844, 0.924\\] |\n",
        "| 5e-5 | 0.852 | \\[ 0.808, 0.896 \\] |"
      ]
    },
    {
      "cell_type": "markdown",
      "metadata": {
        "id": "RU7StShjHk6W"
      },
      "source": [
        "Which of these learning rates performs the best with respect to validation accuracy? Taking into consideration the 95% confidence intervals of the test accuracy results, how meaningful / significant are these differences in performance? Explain your reasoning."
      ]
    },
    {
      "cell_type": "markdown",
      "metadata": {
        "id": "SAsXGVhkHpbN"
      },
      "source": [
        "**Based on the validation accuracy data, learning rates of 3e-5 and 4e-5 both exhibit the highest accuracy at 0.884. Notably, their 95% confidence intervals are identical ([84.4%, 92.4%]) and more narrow relative to other rates. This implies a greater precision in the validation accuracy for these two rates. Additionally, there is an overlap in the confidence intervals across all learning rates, with each rate's validation accuracy falling within the confidence intervals of the others. This overlap indicates that the differences in validation accuracy between any two learning rates are not statistically significant. Thus 3e-5 and 4e-5 have marginally higher accuracy.**"
      ]
    },
    {
      "cell_type": "markdown",
      "metadata": {
        "id": "B8TZfpiAHrJT"
      },
      "source": [
        "## Question 2.3 (5 points)\n",
        "Random initializations can also affect fine-tuning performance. By default, the random seed of the Trainer is set to `42`. Using the *best* performing learning late from Question 2.2, **fine-tune BERT with three additional random seeds of your choice.** To adjust the random seed, set the  `seed` parameter of your `TrainingArguments` object.\n",
        "\n",
        "Report the resulting validation accuracy (i.e., after last epoch of training) and 95% confidence interval for each random seed in the table below."
      ]
    },
    {
      "cell_type": "markdown",
      "metadata": {
        "id": "pyJm_hTvHtTo"
      },
      "source": [
        "| Random Seed | Validation Accuracy (%) |  95% Confidence Interval (%) |\n",
        "| :-: | :-: | :-: |\n",
        "| 42 | ??.? | \\[ ??.?, ??.? \\] |\n",
        "| ? | ??.? | \\[ ??.?, ??.? \\] |\n",
        "| ? | ??.? | \\[ ??.?, ??.? \\] |\n",
        "| ? | ??.? | \\[ ??.?, ??.? \\] |"
      ]
    },
    {
      "cell_type": "markdown",
      "metadata": {
        "id": "FE4e4ejPH7_S"
      },
      "source": [
        "Which of these random seeds performs the best with respect to validation accuracy? How do these differences compare with the variation seen in Question 2.2? Explain your reasoning."
      ]
    },
    {
      "cell_type": "markdown",
      "metadata": {
        "id": "SieJeGpOH9sE"
      },
      "source": [
        "**WRITE YOUR ANSWER HERE**"
      ]
    },
    {
      "cell_type": "markdown",
      "metadata": {
        "id": "8Aa-q5NbSRE6"
      },
      "source": [
        "## Question 2.4 (5 points)\n",
        "In Questions 2.2 and 2.3 we changed two different hyperparameters that can impact the performance of our models. However, we change them individually while keeping the other fixed. Let's see how the random seeds from Question 2.3 affect your *worst* performing learning rate from Question 2.2.\n",
        "\n",
        "Report the resulting validation accuracy (i.e., after last epoch of training) and 95% confidence interval for each random seed in the table below."
      ]
    },
    {
      "cell_type": "markdown",
      "metadata": {
        "id": "46Cib6wkU5gH"
      },
      "source": [
        "| Random Seed | Validation Accuracy (%) |  95% Confidence Interval (%) |\n",
        "| :-: | :-: | :-: |\n",
        "| 42 | ??.? | \\[ ??.?, ??.? \\] |\n",
        "| ? | ??.? | \\[ ??.?, ??.? \\] |\n",
        "| ? | ??.? | \\[ ??.?, ??.? \\] |\n",
        "| ? | ??.? | \\[ ??.?, ??.? \\] |"
      ]
    },
    {
      "cell_type": "markdown",
      "metadata": {
        "id": "AXP_iiKDVB6P"
      },
      "source": [
        "Given these results and those from Question 2.3, can the random seed of the Trainer affect which learning rate seems best? Explain your reasoning.   "
      ]
    },
    {
      "cell_type": "markdown",
      "metadata": {
        "id": "cahgahWMVAE_"
      },
      "source": [
        "**WRITE YOUR ANSWER HERE**"
      ]
    },
    {
      "cell_type": "markdown",
      "metadata": {
        "id": "DZgUTa1TIADL"
      },
      "source": [
        "## Question 2.5 (5 points)\n",
        "Now that we've performed our hyperparameter search, let's see how well your fine-tuned model performs on our test set. Add your best hyperparameter settings (determined by Questions 2.2-2.4) to the code cell below to fine-tune BERT and then compute the test accuracy for your fine-tuned model."
      ]
    },
    {
      "cell_type": "code",
      "execution_count": null,
      "metadata": {
        "id": "hHKjTJBsG5As"
      },
      "outputs": [],
      "source": [
        "best_training_args = TrainingArguments(\n",
        "    output_dir='./results',         # output directory\n",
        "    num_train_epochs=2,             # total number of training epochs\n",
        "    per_device_train_batch_size=8,  # batch size per device during training\n",
        "    per_device_eval_batch_size=64,  # batch size for evaluation\n",
        "    evaluation_strategy=\"epoch\",    # evaluation occurs after each epoch\n",
        "    logging_dir='./logs',           # directory for storing logs\n",
        "    logging_strategy=\"epoch\",       # logging occurs after each epoch\n",
        "    log_level=\"error\",              # set logging level\n",
        "    optim=\"adamw_torch\",            # use pytorch's adamw implementation\n",
        "    # YOUR CODE HERE!\n",
        "\n",
        ")\n",
        "\n",
        "best_trainer = Trainer(\n",
        "    model_init=model_init,            # method instantiates model to be trained\n",
        "    args=best_training_args,          # training arguments, defined above\n",
        "    train_dataset=train_dataset,      # training dataset\n",
        "    eval_dataset=dev_dataset,         # evaluation dataset\n",
        "    compute_metrics=compute_metrics,  # function to be used in evaluation\n",
        "    tokenizer=tokenizer,              # enable dynamic padding\n",
        ")\n",
        "\n",
        "best_trainer.train()\n",
        "\n",
        "# Print test accuracy\n",
        "print()\n",
        "print()\n",
        "test_accuracy = best_trainer.evaluate(test_dataset)['eval_accuracy']\n",
        "print(\"Test Accuracy {:.3f}, 95% CI [{:.3f}, {:.3f}]\".format(test_accuracy, *get_confidence_intervals(test_accuracy, NUM_TEST, 0.95)))"
      ]
    },
    {
      "cell_type": "markdown",
      "metadata": {
        "id": "f3ZQ53MGIJWT"
      },
      "source": [
        "Although both your fine-tuned BERT classifier and the one you built in Part 1 rely on the [CLS] token, they have radically different performance. Explain why fine-tuning BERT greatly outperforms the results from Question 1.3."
      ]
    },
    {
      "cell_type": "markdown",
      "metadata": {
        "id": "DRH9V3HXILEN"
      },
      "source": [
        "**WRITE YOUR ANSWER HERE**"
      ]
    },
    {
      "cell_type": "code",
      "source": [
        "## asdf"
      ],
      "metadata": {
        "id": "GmnlGdXifklR"
      },
      "execution_count": null,
      "outputs": []
    },
    {
      "cell_type": "markdown",
      "source": [
        "# Part 3, Extra credit: Generative LLMs\n",
        "\n",
        "This section is extra credit, to explore large language models.\n",
        "\n",
        "## Question 3.1 (up to 10 points EC)\n",
        "\n",
        "Choose a generative language model that has an API (e.g. ChatGPT), set the temperature to 0, and come up with two questions that it answers incorrectly (the questions cannot be related to facts after the pre-training date for the model; e.g. 2021 for GPT4). Then, use one of the prompt engineering strategies linked from the schedule page to get the language model to output the correct answer. In your writeup, for each question, list the original question and answer outputted by the model through the API, describe the prompt engineering strategy, and list the new inputs to and outputs from the model which describe a correct answer.\n",
        "\n",
        "**WRITE YOUR CODE/ANSWER HERE**\n",
        "\n",
        "\n",
        "## Question 3.2 (up to 10 points EC)\n",
        "\n",
        "Choose a generative language model you can run yourself (not a remote API), where you can access the probability distribution for the next word $p(w_t | w_{t-d}..w_{t-1})$. We suggest a model from the [Pythia](https://github.com/EleutherAI/pythia) project; on HuggingFace, you could try, for example, [EleutherAI/pythia-70m-deduped](https://huggingface.co/EleutherAI/pythia-70m-deduped), Llama, etc.\n",
        "\n",
        "Implement greedy decoding, top-k sampling, nucleus (top-p) sampling, and possibly beam search (trickier). Come up with 3 different sequences of text. For each sequence of text, investigate generated text outputs from greedy decoding, from beam search by varying the number of beams from 1 to a large number, from top-k sampling by varying k, and from nucleus (top-p) sampling by varying p. For each, discuss observations for the quality of generated text among greedy decoding, beam search, top-k sampling, and nucleus sampling (which lead to better generated text?). For each of beam search, top-k sampling, and nucleus sampling, discuss observations for the quality of generated text when varying hyperparameters (number of beams, k, p). What are patterns that you can find? What are reasons behind these observations (e.g. what are reasons behind what performs better or worse?)?\n",
        "What would you have expected the results to be like before these experiments and do the observations from these experiments match these expectations?\n",
        "\n",
        "\n",
        "**WRITE YOUR CODE/ANSWER HERE**\n",
        "\n"
      ],
      "metadata": {
        "id": "oquAljv2gCMJ"
      }
    }
  ],
  "metadata": {
    "colab": {
      "provenance": [],
      "toc_visible": true,
      "gpuType": "T4",
      "include_colab_link": true
    },
    "kernelspec": {
      "display_name": "Python 3",
      "name": "python3"
    },
    "language_info": {
      "codemirror_mode": {
        "name": "ipython",
        "version": 3
      },
      "file_extension": ".py",
      "mimetype": "text/x-python",
      "name": "python",
      "nbconvert_exporter": "python",
      "pygments_lexer": "ipython3",
      "version": "3.8.5"
    },
    "accelerator": "GPU",
    "widgets": {
      "application/vnd.jupyter.widget-state+json": {
        "4aa3f95745b24573add68e54a1d540b3": {
          "model_module": "@jupyter-widgets/controls",
          "model_name": "HBoxModel",
          "model_module_version": "1.5.0",
          "state": {
            "_dom_classes": [],
            "_model_module": "@jupyter-widgets/controls",
            "_model_module_version": "1.5.0",
            "_model_name": "HBoxModel",
            "_view_count": null,
            "_view_module": "@jupyter-widgets/controls",
            "_view_module_version": "1.5.0",
            "_view_name": "HBoxView",
            "box_style": "",
            "children": [
              "IPY_MODEL_05d2c83889624b4fb713da4bda724963",
              "IPY_MODEL_2813e014d0d5428d80793036b501b213",
              "IPY_MODEL_be17d997088b404cae376b641d1665b8"
            ],
            "layout": "IPY_MODEL_eda462ed86f9469eae94b3a595599a5d"
          }
        },
        "05d2c83889624b4fb713da4bda724963": {
          "model_module": "@jupyter-widgets/controls",
          "model_name": "HTMLModel",
          "model_module_version": "1.5.0",
          "state": {
            "_dom_classes": [],
            "_model_module": "@jupyter-widgets/controls",
            "_model_module_version": "1.5.0",
            "_model_name": "HTMLModel",
            "_view_count": null,
            "_view_module": "@jupyter-widgets/controls",
            "_view_module_version": "1.5.0",
            "_view_name": "HTMLView",
            "description": "",
            "description_tooltip": null,
            "layout": "IPY_MODEL_12961423190f48e9b9fe09fd12216784",
            "placeholder": "​",
            "style": "IPY_MODEL_18f1020a34af44e19a08226841dbc868",
            "value": "Downloading builder script: 100%"
          }
        },
        "2813e014d0d5428d80793036b501b213": {
          "model_module": "@jupyter-widgets/controls",
          "model_name": "FloatProgressModel",
          "model_module_version": "1.5.0",
          "state": {
            "_dom_classes": [],
            "_model_module": "@jupyter-widgets/controls",
            "_model_module_version": "1.5.0",
            "_model_name": "FloatProgressModel",
            "_view_count": null,
            "_view_module": "@jupyter-widgets/controls",
            "_view_module_version": "1.5.0",
            "_view_name": "ProgressView",
            "bar_style": "success",
            "description": "",
            "description_tooltip": null,
            "layout": "IPY_MODEL_8a72a637227e446a9399d160bfda9754",
            "max": 4314,
            "min": 0,
            "orientation": "horizontal",
            "style": "IPY_MODEL_07294fc33b474033b407b74a6a80a872",
            "value": 4314
          }
        },
        "be17d997088b404cae376b641d1665b8": {
          "model_module": "@jupyter-widgets/controls",
          "model_name": "HTMLModel",
          "model_module_version": "1.5.0",
          "state": {
            "_dom_classes": [],
            "_model_module": "@jupyter-widgets/controls",
            "_model_module_version": "1.5.0",
            "_model_name": "HTMLModel",
            "_view_count": null,
            "_view_module": "@jupyter-widgets/controls",
            "_view_module_version": "1.5.0",
            "_view_name": "HTMLView",
            "description": "",
            "description_tooltip": null,
            "layout": "IPY_MODEL_1dfd95a7e95647f196672920ad82ff57",
            "placeholder": "​",
            "style": "IPY_MODEL_0b951d7bd40642b2a411cf56b9b29bf4",
            "value": " 4.31k/4.31k [00:00&lt;00:00, 207kB/s]"
          }
        },
        "eda462ed86f9469eae94b3a595599a5d": {
          "model_module": "@jupyter-widgets/base",
          "model_name": "LayoutModel",
          "model_module_version": "1.2.0",
          "state": {
            "_model_module": "@jupyter-widgets/base",
            "_model_module_version": "1.2.0",
            "_model_name": "LayoutModel",
            "_view_count": null,
            "_view_module": "@jupyter-widgets/base",
            "_view_module_version": "1.2.0",
            "_view_name": "LayoutView",
            "align_content": null,
            "align_items": null,
            "align_self": null,
            "border": null,
            "bottom": null,
            "display": null,
            "flex": null,
            "flex_flow": null,
            "grid_area": null,
            "grid_auto_columns": null,
            "grid_auto_flow": null,
            "grid_auto_rows": null,
            "grid_column": null,
            "grid_gap": null,
            "grid_row": null,
            "grid_template_areas": null,
            "grid_template_columns": null,
            "grid_template_rows": null,
            "height": null,
            "justify_content": null,
            "justify_items": null,
            "left": null,
            "margin": null,
            "max_height": null,
            "max_width": null,
            "min_height": null,
            "min_width": null,
            "object_fit": null,
            "object_position": null,
            "order": null,
            "overflow": null,
            "overflow_x": null,
            "overflow_y": null,
            "padding": null,
            "right": null,
            "top": null,
            "visibility": null,
            "width": null
          }
        },
        "12961423190f48e9b9fe09fd12216784": {
          "model_module": "@jupyter-widgets/base",
          "model_name": "LayoutModel",
          "model_module_version": "1.2.0",
          "state": {
            "_model_module": "@jupyter-widgets/base",
            "_model_module_version": "1.2.0",
            "_model_name": "LayoutModel",
            "_view_count": null,
            "_view_module": "@jupyter-widgets/base",
            "_view_module_version": "1.2.0",
            "_view_name": "LayoutView",
            "align_content": null,
            "align_items": null,
            "align_self": null,
            "border": null,
            "bottom": null,
            "display": null,
            "flex": null,
            "flex_flow": null,
            "grid_area": null,
            "grid_auto_columns": null,
            "grid_auto_flow": null,
            "grid_auto_rows": null,
            "grid_column": null,
            "grid_gap": null,
            "grid_row": null,
            "grid_template_areas": null,
            "grid_template_columns": null,
            "grid_template_rows": null,
            "height": null,
            "justify_content": null,
            "justify_items": null,
            "left": null,
            "margin": null,
            "max_height": null,
            "max_width": null,
            "min_height": null,
            "min_width": null,
            "object_fit": null,
            "object_position": null,
            "order": null,
            "overflow": null,
            "overflow_x": null,
            "overflow_y": null,
            "padding": null,
            "right": null,
            "top": null,
            "visibility": null,
            "width": null
          }
        },
        "18f1020a34af44e19a08226841dbc868": {
          "model_module": "@jupyter-widgets/controls",
          "model_name": "DescriptionStyleModel",
          "model_module_version": "1.5.0",
          "state": {
            "_model_module": "@jupyter-widgets/controls",
            "_model_module_version": "1.5.0",
            "_model_name": "DescriptionStyleModel",
            "_view_count": null,
            "_view_module": "@jupyter-widgets/base",
            "_view_module_version": "1.2.0",
            "_view_name": "StyleView",
            "description_width": ""
          }
        },
        "8a72a637227e446a9399d160bfda9754": {
          "model_module": "@jupyter-widgets/base",
          "model_name": "LayoutModel",
          "model_module_version": "1.2.0",
          "state": {
            "_model_module": "@jupyter-widgets/base",
            "_model_module_version": "1.2.0",
            "_model_name": "LayoutModel",
            "_view_count": null,
            "_view_module": "@jupyter-widgets/base",
            "_view_module_version": "1.2.0",
            "_view_name": "LayoutView",
            "align_content": null,
            "align_items": null,
            "align_self": null,
            "border": null,
            "bottom": null,
            "display": null,
            "flex": null,
            "flex_flow": null,
            "grid_area": null,
            "grid_auto_columns": null,
            "grid_auto_flow": null,
            "grid_auto_rows": null,
            "grid_column": null,
            "grid_gap": null,
            "grid_row": null,
            "grid_template_areas": null,
            "grid_template_columns": null,
            "grid_template_rows": null,
            "height": null,
            "justify_content": null,
            "justify_items": null,
            "left": null,
            "margin": null,
            "max_height": null,
            "max_width": null,
            "min_height": null,
            "min_width": null,
            "object_fit": null,
            "object_position": null,
            "order": null,
            "overflow": null,
            "overflow_x": null,
            "overflow_y": null,
            "padding": null,
            "right": null,
            "top": null,
            "visibility": null,
            "width": null
          }
        },
        "07294fc33b474033b407b74a6a80a872": {
          "model_module": "@jupyter-widgets/controls",
          "model_name": "ProgressStyleModel",
          "model_module_version": "1.5.0",
          "state": {
            "_model_module": "@jupyter-widgets/controls",
            "_model_module_version": "1.5.0",
            "_model_name": "ProgressStyleModel",
            "_view_count": null,
            "_view_module": "@jupyter-widgets/base",
            "_view_module_version": "1.2.0",
            "_view_name": "StyleView",
            "bar_color": null,
            "description_width": ""
          }
        },
        "1dfd95a7e95647f196672920ad82ff57": {
          "model_module": "@jupyter-widgets/base",
          "model_name": "LayoutModel",
          "model_module_version": "1.2.0",
          "state": {
            "_model_module": "@jupyter-widgets/base",
            "_model_module_version": "1.2.0",
            "_model_name": "LayoutModel",
            "_view_count": null,
            "_view_module": "@jupyter-widgets/base",
            "_view_module_version": "1.2.0",
            "_view_name": "LayoutView",
            "align_content": null,
            "align_items": null,
            "align_self": null,
            "border": null,
            "bottom": null,
            "display": null,
            "flex": null,
            "flex_flow": null,
            "grid_area": null,
            "grid_auto_columns": null,
            "grid_auto_flow": null,
            "grid_auto_rows": null,
            "grid_column": null,
            "grid_gap": null,
            "grid_row": null,
            "grid_template_areas": null,
            "grid_template_columns": null,
            "grid_template_rows": null,
            "height": null,
            "justify_content": null,
            "justify_items": null,
            "left": null,
            "margin": null,
            "max_height": null,
            "max_width": null,
            "min_height": null,
            "min_width": null,
            "object_fit": null,
            "object_position": null,
            "order": null,
            "overflow": null,
            "overflow_x": null,
            "overflow_y": null,
            "padding": null,
            "right": null,
            "top": null,
            "visibility": null,
            "width": null
          }
        },
        "0b951d7bd40642b2a411cf56b9b29bf4": {
          "model_module": "@jupyter-widgets/controls",
          "model_name": "DescriptionStyleModel",
          "model_module_version": "1.5.0",
          "state": {
            "_model_module": "@jupyter-widgets/controls",
            "_model_module_version": "1.5.0",
            "_model_name": "DescriptionStyleModel",
            "_view_count": null,
            "_view_module": "@jupyter-widgets/base",
            "_view_module_version": "1.2.0",
            "_view_name": "StyleView",
            "description_width": ""
          }
        },
        "ac9f3044c40d44268a5faa3ca5962014": {
          "model_module": "@jupyter-widgets/controls",
          "model_name": "HBoxModel",
          "model_module_version": "1.5.0",
          "state": {
            "_dom_classes": [],
            "_model_module": "@jupyter-widgets/controls",
            "_model_module_version": "1.5.0",
            "_model_name": "HBoxModel",
            "_view_count": null,
            "_view_module": "@jupyter-widgets/controls",
            "_view_module_version": "1.5.0",
            "_view_name": "HBoxView",
            "box_style": "",
            "children": [
              "IPY_MODEL_d88ea284a1c64789a1a3f471b2db1e0d",
              "IPY_MODEL_6fd21e8c6cd44c3bace00320bafdf868",
              "IPY_MODEL_bb491f417f6c44b7a596ee58993a31d2"
            ],
            "layout": "IPY_MODEL_a23a6b3ebba34dba9968fe1787f6a247"
          }
        },
        "d88ea284a1c64789a1a3f471b2db1e0d": {
          "model_module": "@jupyter-widgets/controls",
          "model_name": "HTMLModel",
          "model_module_version": "1.5.0",
          "state": {
            "_dom_classes": [],
            "_model_module": "@jupyter-widgets/controls",
            "_model_module_version": "1.5.0",
            "_model_name": "HTMLModel",
            "_view_count": null,
            "_view_module": "@jupyter-widgets/controls",
            "_view_module_version": "1.5.0",
            "_view_name": "HTMLView",
            "description": "",
            "description_tooltip": null,
            "layout": "IPY_MODEL_dac847db559542e8bcaf4a4f04187a02",
            "placeholder": "​",
            "style": "IPY_MODEL_4963bc986eb74fa4a1a7ed04dc7b997b",
            "value": "Downloading metadata: 100%"
          }
        },
        "6fd21e8c6cd44c3bace00320bafdf868": {
          "model_module": "@jupyter-widgets/controls",
          "model_name": "FloatProgressModel",
          "model_module_version": "1.5.0",
          "state": {
            "_dom_classes": [],
            "_model_module": "@jupyter-widgets/controls",
            "_model_module_version": "1.5.0",
            "_model_name": "FloatProgressModel",
            "_view_count": null,
            "_view_module": "@jupyter-widgets/controls",
            "_view_module_version": "1.5.0",
            "_view_name": "ProgressView",
            "bar_style": "success",
            "description": "",
            "description_tooltip": null,
            "layout": "IPY_MODEL_4072cb1819b64431b2ac2a1b3ef34874",
            "max": 2166,
            "min": 0,
            "orientation": "horizontal",
            "style": "IPY_MODEL_1a80de1b3a4f43fcac8e7935738dc61c",
            "value": 2166
          }
        },
        "bb491f417f6c44b7a596ee58993a31d2": {
          "model_module": "@jupyter-widgets/controls",
          "model_name": "HTMLModel",
          "model_module_version": "1.5.0",
          "state": {
            "_dom_classes": [],
            "_model_module": "@jupyter-widgets/controls",
            "_model_module_version": "1.5.0",
            "_model_name": "HTMLModel",
            "_view_count": null,
            "_view_module": "@jupyter-widgets/controls",
            "_view_module_version": "1.5.0",
            "_view_name": "HTMLView",
            "description": "",
            "description_tooltip": null,
            "layout": "IPY_MODEL_32689f1f957b4917868dcdd520553d22",
            "placeholder": "​",
            "style": "IPY_MODEL_de068a31388a461bbe4b9eb96dcd7206",
            "value": " 2.17k/2.17k [00:00&lt;00:00, 124kB/s]"
          }
        },
        "a23a6b3ebba34dba9968fe1787f6a247": {
          "model_module": "@jupyter-widgets/base",
          "model_name": "LayoutModel",
          "model_module_version": "1.2.0",
          "state": {
            "_model_module": "@jupyter-widgets/base",
            "_model_module_version": "1.2.0",
            "_model_name": "LayoutModel",
            "_view_count": null,
            "_view_module": "@jupyter-widgets/base",
            "_view_module_version": "1.2.0",
            "_view_name": "LayoutView",
            "align_content": null,
            "align_items": null,
            "align_self": null,
            "border": null,
            "bottom": null,
            "display": null,
            "flex": null,
            "flex_flow": null,
            "grid_area": null,
            "grid_auto_columns": null,
            "grid_auto_flow": null,
            "grid_auto_rows": null,
            "grid_column": null,
            "grid_gap": null,
            "grid_row": null,
            "grid_template_areas": null,
            "grid_template_columns": null,
            "grid_template_rows": null,
            "height": null,
            "justify_content": null,
            "justify_items": null,
            "left": null,
            "margin": null,
            "max_height": null,
            "max_width": null,
            "min_height": null,
            "min_width": null,
            "object_fit": null,
            "object_position": null,
            "order": null,
            "overflow": null,
            "overflow_x": null,
            "overflow_y": null,
            "padding": null,
            "right": null,
            "top": null,
            "visibility": null,
            "width": null
          }
        },
        "dac847db559542e8bcaf4a4f04187a02": {
          "model_module": "@jupyter-widgets/base",
          "model_name": "LayoutModel",
          "model_module_version": "1.2.0",
          "state": {
            "_model_module": "@jupyter-widgets/base",
            "_model_module_version": "1.2.0",
            "_model_name": "LayoutModel",
            "_view_count": null,
            "_view_module": "@jupyter-widgets/base",
            "_view_module_version": "1.2.0",
            "_view_name": "LayoutView",
            "align_content": null,
            "align_items": null,
            "align_self": null,
            "border": null,
            "bottom": null,
            "display": null,
            "flex": null,
            "flex_flow": null,
            "grid_area": null,
            "grid_auto_columns": null,
            "grid_auto_flow": null,
            "grid_auto_rows": null,
            "grid_column": null,
            "grid_gap": null,
            "grid_row": null,
            "grid_template_areas": null,
            "grid_template_columns": null,
            "grid_template_rows": null,
            "height": null,
            "justify_content": null,
            "justify_items": null,
            "left": null,
            "margin": null,
            "max_height": null,
            "max_width": null,
            "min_height": null,
            "min_width": null,
            "object_fit": null,
            "object_position": null,
            "order": null,
            "overflow": null,
            "overflow_x": null,
            "overflow_y": null,
            "padding": null,
            "right": null,
            "top": null,
            "visibility": null,
            "width": null
          }
        },
        "4963bc986eb74fa4a1a7ed04dc7b997b": {
          "model_module": "@jupyter-widgets/controls",
          "model_name": "DescriptionStyleModel",
          "model_module_version": "1.5.0",
          "state": {
            "_model_module": "@jupyter-widgets/controls",
            "_model_module_version": "1.5.0",
            "_model_name": "DescriptionStyleModel",
            "_view_count": null,
            "_view_module": "@jupyter-widgets/base",
            "_view_module_version": "1.2.0",
            "_view_name": "StyleView",
            "description_width": ""
          }
        },
        "4072cb1819b64431b2ac2a1b3ef34874": {
          "model_module": "@jupyter-widgets/base",
          "model_name": "LayoutModel",
          "model_module_version": "1.2.0",
          "state": {
            "_model_module": "@jupyter-widgets/base",
            "_model_module_version": "1.2.0",
            "_model_name": "LayoutModel",
            "_view_count": null,
            "_view_module": "@jupyter-widgets/base",
            "_view_module_version": "1.2.0",
            "_view_name": "LayoutView",
            "align_content": null,
            "align_items": null,
            "align_self": null,
            "border": null,
            "bottom": null,
            "display": null,
            "flex": null,
            "flex_flow": null,
            "grid_area": null,
            "grid_auto_columns": null,
            "grid_auto_flow": null,
            "grid_auto_rows": null,
            "grid_column": null,
            "grid_gap": null,
            "grid_row": null,
            "grid_template_areas": null,
            "grid_template_columns": null,
            "grid_template_rows": null,
            "height": null,
            "justify_content": null,
            "justify_items": null,
            "left": null,
            "margin": null,
            "max_height": null,
            "max_width": null,
            "min_height": null,
            "min_width": null,
            "object_fit": null,
            "object_position": null,
            "order": null,
            "overflow": null,
            "overflow_x": null,
            "overflow_y": null,
            "padding": null,
            "right": null,
            "top": null,
            "visibility": null,
            "width": null
          }
        },
        "1a80de1b3a4f43fcac8e7935738dc61c": {
          "model_module": "@jupyter-widgets/controls",
          "model_name": "ProgressStyleModel",
          "model_module_version": "1.5.0",
          "state": {
            "_model_module": "@jupyter-widgets/controls",
            "_model_module_version": "1.5.0",
            "_model_name": "ProgressStyleModel",
            "_view_count": null,
            "_view_module": "@jupyter-widgets/base",
            "_view_module_version": "1.2.0",
            "_view_name": "StyleView",
            "bar_color": null,
            "description_width": ""
          }
        },
        "32689f1f957b4917868dcdd520553d22": {
          "model_module": "@jupyter-widgets/base",
          "model_name": "LayoutModel",
          "model_module_version": "1.2.0",
          "state": {
            "_model_module": "@jupyter-widgets/base",
            "_model_module_version": "1.2.0",
            "_model_name": "LayoutModel",
            "_view_count": null,
            "_view_module": "@jupyter-widgets/base",
            "_view_module_version": "1.2.0",
            "_view_name": "LayoutView",
            "align_content": null,
            "align_items": null,
            "align_self": null,
            "border": null,
            "bottom": null,
            "display": null,
            "flex": null,
            "flex_flow": null,
            "grid_area": null,
            "grid_auto_columns": null,
            "grid_auto_flow": null,
            "grid_auto_rows": null,
            "grid_column": null,
            "grid_gap": null,
            "grid_row": null,
            "grid_template_areas": null,
            "grid_template_columns": null,
            "grid_template_rows": null,
            "height": null,
            "justify_content": null,
            "justify_items": null,
            "left": null,
            "margin": null,
            "max_height": null,
            "max_width": null,
            "min_height": null,
            "min_width": null,
            "object_fit": null,
            "object_position": null,
            "order": null,
            "overflow": null,
            "overflow_x": null,
            "overflow_y": null,
            "padding": null,
            "right": null,
            "top": null,
            "visibility": null,
            "width": null
          }
        },
        "de068a31388a461bbe4b9eb96dcd7206": {
          "model_module": "@jupyter-widgets/controls",
          "model_name": "DescriptionStyleModel",
          "model_module_version": "1.5.0",
          "state": {
            "_model_module": "@jupyter-widgets/controls",
            "_model_module_version": "1.5.0",
            "_model_name": "DescriptionStyleModel",
            "_view_count": null,
            "_view_module": "@jupyter-widgets/base",
            "_view_module_version": "1.2.0",
            "_view_name": "StyleView",
            "description_width": ""
          }
        },
        "b0ba9eb5cbc844a491f8865b62d2d50a": {
          "model_module": "@jupyter-widgets/controls",
          "model_name": "HBoxModel",
          "model_module_version": "1.5.0",
          "state": {
            "_dom_classes": [],
            "_model_module": "@jupyter-widgets/controls",
            "_model_module_version": "1.5.0",
            "_model_name": "HBoxModel",
            "_view_count": null,
            "_view_module": "@jupyter-widgets/controls",
            "_view_module_version": "1.5.0",
            "_view_name": "HBoxView",
            "box_style": "",
            "children": [
              "IPY_MODEL_d953c47d963147cd9692f1f299e96f61",
              "IPY_MODEL_82a6fd81050f4842ae5e33b5eb0a9883",
              "IPY_MODEL_17070ded4f4c406d890c26e8bb719572"
            ],
            "layout": "IPY_MODEL_ecbc348c008f41268412eef0cfcfcea3"
          }
        },
        "d953c47d963147cd9692f1f299e96f61": {
          "model_module": "@jupyter-widgets/controls",
          "model_name": "HTMLModel",
          "model_module_version": "1.5.0",
          "state": {
            "_dom_classes": [],
            "_model_module": "@jupyter-widgets/controls",
            "_model_module_version": "1.5.0",
            "_model_name": "HTMLModel",
            "_view_count": null,
            "_view_module": "@jupyter-widgets/controls",
            "_view_module_version": "1.5.0",
            "_view_name": "HTMLView",
            "description": "",
            "description_tooltip": null,
            "layout": "IPY_MODEL_81f7221e445b4b1a83982450159b43b0",
            "placeholder": "​",
            "style": "IPY_MODEL_631defb181e944ae9118562ee91b14e3",
            "value": "Downloading readme: 100%"
          }
        },
        "82a6fd81050f4842ae5e33b5eb0a9883": {
          "model_module": "@jupyter-widgets/controls",
          "model_name": "FloatProgressModel",
          "model_module_version": "1.5.0",
          "state": {
            "_dom_classes": [],
            "_model_module": "@jupyter-widgets/controls",
            "_model_module_version": "1.5.0",
            "_model_name": "FloatProgressModel",
            "_view_count": null,
            "_view_module": "@jupyter-widgets/controls",
            "_view_module_version": "1.5.0",
            "_view_name": "ProgressView",
            "bar_style": "success",
            "description": "",
            "description_tooltip": null,
            "layout": "IPY_MODEL_3aa3bd0ce74e46debaaffa036e7a86ae",
            "max": 7590,
            "min": 0,
            "orientation": "horizontal",
            "style": "IPY_MODEL_2e2333a21e6e406e946d11c16d789329",
            "value": 7590
          }
        },
        "17070ded4f4c406d890c26e8bb719572": {
          "model_module": "@jupyter-widgets/controls",
          "model_name": "HTMLModel",
          "model_module_version": "1.5.0",
          "state": {
            "_dom_classes": [],
            "_model_module": "@jupyter-widgets/controls",
            "_model_module_version": "1.5.0",
            "_model_name": "HTMLModel",
            "_view_count": null,
            "_view_module": "@jupyter-widgets/controls",
            "_view_module_version": "1.5.0",
            "_view_name": "HTMLView",
            "description": "",
            "description_tooltip": null,
            "layout": "IPY_MODEL_37fc3f20594844858696094f878111a8",
            "placeholder": "​",
            "style": "IPY_MODEL_5f357e852a0043438d937929c5c40af5",
            "value": " 7.59k/7.59k [00:00&lt;00:00, 368kB/s]"
          }
        },
        "ecbc348c008f41268412eef0cfcfcea3": {
          "model_module": "@jupyter-widgets/base",
          "model_name": "LayoutModel",
          "model_module_version": "1.2.0",
          "state": {
            "_model_module": "@jupyter-widgets/base",
            "_model_module_version": "1.2.0",
            "_model_name": "LayoutModel",
            "_view_count": null,
            "_view_module": "@jupyter-widgets/base",
            "_view_module_version": "1.2.0",
            "_view_name": "LayoutView",
            "align_content": null,
            "align_items": null,
            "align_self": null,
            "border": null,
            "bottom": null,
            "display": null,
            "flex": null,
            "flex_flow": null,
            "grid_area": null,
            "grid_auto_columns": null,
            "grid_auto_flow": null,
            "grid_auto_rows": null,
            "grid_column": null,
            "grid_gap": null,
            "grid_row": null,
            "grid_template_areas": null,
            "grid_template_columns": null,
            "grid_template_rows": null,
            "height": null,
            "justify_content": null,
            "justify_items": null,
            "left": null,
            "margin": null,
            "max_height": null,
            "max_width": null,
            "min_height": null,
            "min_width": null,
            "object_fit": null,
            "object_position": null,
            "order": null,
            "overflow": null,
            "overflow_x": null,
            "overflow_y": null,
            "padding": null,
            "right": null,
            "top": null,
            "visibility": null,
            "width": null
          }
        },
        "81f7221e445b4b1a83982450159b43b0": {
          "model_module": "@jupyter-widgets/base",
          "model_name": "LayoutModel",
          "model_module_version": "1.2.0",
          "state": {
            "_model_module": "@jupyter-widgets/base",
            "_model_module_version": "1.2.0",
            "_model_name": "LayoutModel",
            "_view_count": null,
            "_view_module": "@jupyter-widgets/base",
            "_view_module_version": "1.2.0",
            "_view_name": "LayoutView",
            "align_content": null,
            "align_items": null,
            "align_self": null,
            "border": null,
            "bottom": null,
            "display": null,
            "flex": null,
            "flex_flow": null,
            "grid_area": null,
            "grid_auto_columns": null,
            "grid_auto_flow": null,
            "grid_auto_rows": null,
            "grid_column": null,
            "grid_gap": null,
            "grid_row": null,
            "grid_template_areas": null,
            "grid_template_columns": null,
            "grid_template_rows": null,
            "height": null,
            "justify_content": null,
            "justify_items": null,
            "left": null,
            "margin": null,
            "max_height": null,
            "max_width": null,
            "min_height": null,
            "min_width": null,
            "object_fit": null,
            "object_position": null,
            "order": null,
            "overflow": null,
            "overflow_x": null,
            "overflow_y": null,
            "padding": null,
            "right": null,
            "top": null,
            "visibility": null,
            "width": null
          }
        },
        "631defb181e944ae9118562ee91b14e3": {
          "model_module": "@jupyter-widgets/controls",
          "model_name": "DescriptionStyleModel",
          "model_module_version": "1.5.0",
          "state": {
            "_model_module": "@jupyter-widgets/controls",
            "_model_module_version": "1.5.0",
            "_model_name": "DescriptionStyleModel",
            "_view_count": null,
            "_view_module": "@jupyter-widgets/base",
            "_view_module_version": "1.2.0",
            "_view_name": "StyleView",
            "description_width": ""
          }
        },
        "3aa3bd0ce74e46debaaffa036e7a86ae": {
          "model_module": "@jupyter-widgets/base",
          "model_name": "LayoutModel",
          "model_module_version": "1.2.0",
          "state": {
            "_model_module": "@jupyter-widgets/base",
            "_model_module_version": "1.2.0",
            "_model_name": "LayoutModel",
            "_view_count": null,
            "_view_module": "@jupyter-widgets/base",
            "_view_module_version": "1.2.0",
            "_view_name": "LayoutView",
            "align_content": null,
            "align_items": null,
            "align_self": null,
            "border": null,
            "bottom": null,
            "display": null,
            "flex": null,
            "flex_flow": null,
            "grid_area": null,
            "grid_auto_columns": null,
            "grid_auto_flow": null,
            "grid_auto_rows": null,
            "grid_column": null,
            "grid_gap": null,
            "grid_row": null,
            "grid_template_areas": null,
            "grid_template_columns": null,
            "grid_template_rows": null,
            "height": null,
            "justify_content": null,
            "justify_items": null,
            "left": null,
            "margin": null,
            "max_height": null,
            "max_width": null,
            "min_height": null,
            "min_width": null,
            "object_fit": null,
            "object_position": null,
            "order": null,
            "overflow": null,
            "overflow_x": null,
            "overflow_y": null,
            "padding": null,
            "right": null,
            "top": null,
            "visibility": null,
            "width": null
          }
        },
        "2e2333a21e6e406e946d11c16d789329": {
          "model_module": "@jupyter-widgets/controls",
          "model_name": "ProgressStyleModel",
          "model_module_version": "1.5.0",
          "state": {
            "_model_module": "@jupyter-widgets/controls",
            "_model_module_version": "1.5.0",
            "_model_name": "ProgressStyleModel",
            "_view_count": null,
            "_view_module": "@jupyter-widgets/base",
            "_view_module_version": "1.2.0",
            "_view_name": "StyleView",
            "bar_color": null,
            "description_width": ""
          }
        },
        "37fc3f20594844858696094f878111a8": {
          "model_module": "@jupyter-widgets/base",
          "model_name": "LayoutModel",
          "model_module_version": "1.2.0",
          "state": {
            "_model_module": "@jupyter-widgets/base",
            "_model_module_version": "1.2.0",
            "_model_name": "LayoutModel",
            "_view_count": null,
            "_view_module": "@jupyter-widgets/base",
            "_view_module_version": "1.2.0",
            "_view_name": "LayoutView",
            "align_content": null,
            "align_items": null,
            "align_self": null,
            "border": null,
            "bottom": null,
            "display": null,
            "flex": null,
            "flex_flow": null,
            "grid_area": null,
            "grid_auto_columns": null,
            "grid_auto_flow": null,
            "grid_auto_rows": null,
            "grid_column": null,
            "grid_gap": null,
            "grid_row": null,
            "grid_template_areas": null,
            "grid_template_columns": null,
            "grid_template_rows": null,
            "height": null,
            "justify_content": null,
            "justify_items": null,
            "left": null,
            "margin": null,
            "max_height": null,
            "max_width": null,
            "min_height": null,
            "min_width": null,
            "object_fit": null,
            "object_position": null,
            "order": null,
            "overflow": null,
            "overflow_x": null,
            "overflow_y": null,
            "padding": null,
            "right": null,
            "top": null,
            "visibility": null,
            "width": null
          }
        },
        "5f357e852a0043438d937929c5c40af5": {
          "model_module": "@jupyter-widgets/controls",
          "model_name": "DescriptionStyleModel",
          "model_module_version": "1.5.0",
          "state": {
            "_model_module": "@jupyter-widgets/controls",
            "_model_module_version": "1.5.0",
            "_model_name": "DescriptionStyleModel",
            "_view_count": null,
            "_view_module": "@jupyter-widgets/base",
            "_view_module_version": "1.2.0",
            "_view_name": "StyleView",
            "description_width": ""
          }
        },
        "35134f57951b47dc884c0a589b4a072b": {
          "model_module": "@jupyter-widgets/controls",
          "model_name": "HBoxModel",
          "model_module_version": "1.5.0",
          "state": {
            "_dom_classes": [],
            "_model_module": "@jupyter-widgets/controls",
            "_model_module_version": "1.5.0",
            "_model_name": "HBoxModel",
            "_view_count": null,
            "_view_module": "@jupyter-widgets/controls",
            "_view_module_version": "1.5.0",
            "_view_name": "HBoxView",
            "box_style": "",
            "children": [
              "IPY_MODEL_bd61639b32094fb7a34af436227a7468",
              "IPY_MODEL_70f75655b7a8404a9a423f70a8c21847",
              "IPY_MODEL_d091c66d20b240069cbe3c2302900c0c"
            ],
            "layout": "IPY_MODEL_65a8974207684ef98e97f810e23c7e51"
          }
        },
        "bd61639b32094fb7a34af436227a7468": {
          "model_module": "@jupyter-widgets/controls",
          "model_name": "HTMLModel",
          "model_module_version": "1.5.0",
          "state": {
            "_dom_classes": [],
            "_model_module": "@jupyter-widgets/controls",
            "_model_module_version": "1.5.0",
            "_model_name": "HTMLModel",
            "_view_count": null,
            "_view_module": "@jupyter-widgets/controls",
            "_view_module_version": "1.5.0",
            "_view_name": "HTMLView",
            "description": "",
            "description_tooltip": null,
            "layout": "IPY_MODEL_d9e3e5a4e3dc4e2e8c2daf8fede7b035",
            "placeholder": "​",
            "style": "IPY_MODEL_48c46aa66512420bb9f4bd1200583421",
            "value": "Downloading data: 100%"
          }
        },
        "70f75655b7a8404a9a423f70a8c21847": {
          "model_module": "@jupyter-widgets/controls",
          "model_name": "FloatProgressModel",
          "model_module_version": "1.5.0",
          "state": {
            "_dom_classes": [],
            "_model_module": "@jupyter-widgets/controls",
            "_model_module_version": "1.5.0",
            "_model_name": "FloatProgressModel",
            "_view_count": null,
            "_view_module": "@jupyter-widgets/controls",
            "_view_module_version": "1.5.0",
            "_view_name": "ProgressView",
            "bar_style": "success",
            "description": "",
            "description_tooltip": null,
            "layout": "IPY_MODEL_5462aae9cfd34e77b01af5926eea9a24",
            "max": 84125825,
            "min": 0,
            "orientation": "horizontal",
            "style": "IPY_MODEL_4af4cacd4b8b4e49988fed038d9f56be",
            "value": 84125825
          }
        },
        "d091c66d20b240069cbe3c2302900c0c": {
          "model_module": "@jupyter-widgets/controls",
          "model_name": "HTMLModel",
          "model_module_version": "1.5.0",
          "state": {
            "_dom_classes": [],
            "_model_module": "@jupyter-widgets/controls",
            "_model_module_version": "1.5.0",
            "_model_name": "HTMLModel",
            "_view_count": null,
            "_view_module": "@jupyter-widgets/controls",
            "_view_module_version": "1.5.0",
            "_view_name": "HTMLView",
            "description": "",
            "description_tooltip": null,
            "layout": "IPY_MODEL_07730130de8a45ce84f14c09319918d3",
            "placeholder": "​",
            "style": "IPY_MODEL_8159ce0ca2404f1b8b4a71b5cc889f0e",
            "value": " 84.1M/84.1M [00:11&lt;00:00, 17.8MB/s]"
          }
        },
        "65a8974207684ef98e97f810e23c7e51": {
          "model_module": "@jupyter-widgets/base",
          "model_name": "LayoutModel",
          "model_module_version": "1.2.0",
          "state": {
            "_model_module": "@jupyter-widgets/base",
            "_model_module_version": "1.2.0",
            "_model_name": "LayoutModel",
            "_view_count": null,
            "_view_module": "@jupyter-widgets/base",
            "_view_module_version": "1.2.0",
            "_view_name": "LayoutView",
            "align_content": null,
            "align_items": null,
            "align_self": null,
            "border": null,
            "bottom": null,
            "display": null,
            "flex": null,
            "flex_flow": null,
            "grid_area": null,
            "grid_auto_columns": null,
            "grid_auto_flow": null,
            "grid_auto_rows": null,
            "grid_column": null,
            "grid_gap": null,
            "grid_row": null,
            "grid_template_areas": null,
            "grid_template_columns": null,
            "grid_template_rows": null,
            "height": null,
            "justify_content": null,
            "justify_items": null,
            "left": null,
            "margin": null,
            "max_height": null,
            "max_width": null,
            "min_height": null,
            "min_width": null,
            "object_fit": null,
            "object_position": null,
            "order": null,
            "overflow": null,
            "overflow_x": null,
            "overflow_y": null,
            "padding": null,
            "right": null,
            "top": null,
            "visibility": null,
            "width": null
          }
        },
        "d9e3e5a4e3dc4e2e8c2daf8fede7b035": {
          "model_module": "@jupyter-widgets/base",
          "model_name": "LayoutModel",
          "model_module_version": "1.2.0",
          "state": {
            "_model_module": "@jupyter-widgets/base",
            "_model_module_version": "1.2.0",
            "_model_name": "LayoutModel",
            "_view_count": null,
            "_view_module": "@jupyter-widgets/base",
            "_view_module_version": "1.2.0",
            "_view_name": "LayoutView",
            "align_content": null,
            "align_items": null,
            "align_self": null,
            "border": null,
            "bottom": null,
            "display": null,
            "flex": null,
            "flex_flow": null,
            "grid_area": null,
            "grid_auto_columns": null,
            "grid_auto_flow": null,
            "grid_auto_rows": null,
            "grid_column": null,
            "grid_gap": null,
            "grid_row": null,
            "grid_template_areas": null,
            "grid_template_columns": null,
            "grid_template_rows": null,
            "height": null,
            "justify_content": null,
            "justify_items": null,
            "left": null,
            "margin": null,
            "max_height": null,
            "max_width": null,
            "min_height": null,
            "min_width": null,
            "object_fit": null,
            "object_position": null,
            "order": null,
            "overflow": null,
            "overflow_x": null,
            "overflow_y": null,
            "padding": null,
            "right": null,
            "top": null,
            "visibility": null,
            "width": null
          }
        },
        "48c46aa66512420bb9f4bd1200583421": {
          "model_module": "@jupyter-widgets/controls",
          "model_name": "DescriptionStyleModel",
          "model_module_version": "1.5.0",
          "state": {
            "_model_module": "@jupyter-widgets/controls",
            "_model_module_version": "1.5.0",
            "_model_name": "DescriptionStyleModel",
            "_view_count": null,
            "_view_module": "@jupyter-widgets/base",
            "_view_module_version": "1.2.0",
            "_view_name": "StyleView",
            "description_width": ""
          }
        },
        "5462aae9cfd34e77b01af5926eea9a24": {
          "model_module": "@jupyter-widgets/base",
          "model_name": "LayoutModel",
          "model_module_version": "1.2.0",
          "state": {
            "_model_module": "@jupyter-widgets/base",
            "_model_module_version": "1.2.0",
            "_model_name": "LayoutModel",
            "_view_count": null,
            "_view_module": "@jupyter-widgets/base",
            "_view_module_version": "1.2.0",
            "_view_name": "LayoutView",
            "align_content": null,
            "align_items": null,
            "align_self": null,
            "border": null,
            "bottom": null,
            "display": null,
            "flex": null,
            "flex_flow": null,
            "grid_area": null,
            "grid_auto_columns": null,
            "grid_auto_flow": null,
            "grid_auto_rows": null,
            "grid_column": null,
            "grid_gap": null,
            "grid_row": null,
            "grid_template_areas": null,
            "grid_template_columns": null,
            "grid_template_rows": null,
            "height": null,
            "justify_content": null,
            "justify_items": null,
            "left": null,
            "margin": null,
            "max_height": null,
            "max_width": null,
            "min_height": null,
            "min_width": null,
            "object_fit": null,
            "object_position": null,
            "order": null,
            "overflow": null,
            "overflow_x": null,
            "overflow_y": null,
            "padding": null,
            "right": null,
            "top": null,
            "visibility": null,
            "width": null
          }
        },
        "4af4cacd4b8b4e49988fed038d9f56be": {
          "model_module": "@jupyter-widgets/controls",
          "model_name": "ProgressStyleModel",
          "model_module_version": "1.5.0",
          "state": {
            "_model_module": "@jupyter-widgets/controls",
            "_model_module_version": "1.5.0",
            "_model_name": "ProgressStyleModel",
            "_view_count": null,
            "_view_module": "@jupyter-widgets/base",
            "_view_module_version": "1.2.0",
            "_view_name": "StyleView",
            "bar_color": null,
            "description_width": ""
          }
        },
        "07730130de8a45ce84f14c09319918d3": {
          "model_module": "@jupyter-widgets/base",
          "model_name": "LayoutModel",
          "model_module_version": "1.2.0",
          "state": {
            "_model_module": "@jupyter-widgets/base",
            "_model_module_version": "1.2.0",
            "_model_name": "LayoutModel",
            "_view_count": null,
            "_view_module": "@jupyter-widgets/base",
            "_view_module_version": "1.2.0",
            "_view_name": "LayoutView",
            "align_content": null,
            "align_items": null,
            "align_self": null,
            "border": null,
            "bottom": null,
            "display": null,
            "flex": null,
            "flex_flow": null,
            "grid_area": null,
            "grid_auto_columns": null,
            "grid_auto_flow": null,
            "grid_auto_rows": null,
            "grid_column": null,
            "grid_gap": null,
            "grid_row": null,
            "grid_template_areas": null,
            "grid_template_columns": null,
            "grid_template_rows": null,
            "height": null,
            "justify_content": null,
            "justify_items": null,
            "left": null,
            "margin": null,
            "max_height": null,
            "max_width": null,
            "min_height": null,
            "min_width": null,
            "object_fit": null,
            "object_position": null,
            "order": null,
            "overflow": null,
            "overflow_x": null,
            "overflow_y": null,
            "padding": null,
            "right": null,
            "top": null,
            "visibility": null,
            "width": null
          }
        },
        "8159ce0ca2404f1b8b4a71b5cc889f0e": {
          "model_module": "@jupyter-widgets/controls",
          "model_name": "DescriptionStyleModel",
          "model_module_version": "1.5.0",
          "state": {
            "_model_module": "@jupyter-widgets/controls",
            "_model_module_version": "1.5.0",
            "_model_name": "DescriptionStyleModel",
            "_view_count": null,
            "_view_module": "@jupyter-widgets/base",
            "_view_module_version": "1.2.0",
            "_view_name": "StyleView",
            "description_width": ""
          }
        },
        "60f2ace7311348f784269e22f9a430f6": {
          "model_module": "@jupyter-widgets/controls",
          "model_name": "HBoxModel",
          "model_module_version": "1.5.0",
          "state": {
            "_dom_classes": [],
            "_model_module": "@jupyter-widgets/controls",
            "_model_module_version": "1.5.0",
            "_model_name": "HBoxModel",
            "_view_count": null,
            "_view_module": "@jupyter-widgets/controls",
            "_view_module_version": "1.5.0",
            "_view_name": "HBoxView",
            "box_style": "",
            "children": [
              "IPY_MODEL_d88d5ef3e5964acdaf64f29d41ebb82f",
              "IPY_MODEL_7d5613ff0dea43c8b710d49225e7704f",
              "IPY_MODEL_8e1730d5f52a490d834dcb8405c93485"
            ],
            "layout": "IPY_MODEL_b45c19a873344a129ac1cbb38c6bf335"
          }
        },
        "d88d5ef3e5964acdaf64f29d41ebb82f": {
          "model_module": "@jupyter-widgets/controls",
          "model_name": "HTMLModel",
          "model_module_version": "1.5.0",
          "state": {
            "_dom_classes": [],
            "_model_module": "@jupyter-widgets/controls",
            "_model_module_version": "1.5.0",
            "_model_name": "HTMLModel",
            "_view_count": null,
            "_view_module": "@jupyter-widgets/controls",
            "_view_module_version": "1.5.0",
            "_view_name": "HTMLView",
            "description": "",
            "description_tooltip": null,
            "layout": "IPY_MODEL_9c23b5e2c11747e085d482c3bd0b4ede",
            "placeholder": "​",
            "style": "IPY_MODEL_4124ccf59ccd4920a833810a228e2bbe",
            "value": "Generating train split: 100%"
          }
        },
        "7d5613ff0dea43c8b710d49225e7704f": {
          "model_module": "@jupyter-widgets/controls",
          "model_name": "FloatProgressModel",
          "model_module_version": "1.5.0",
          "state": {
            "_dom_classes": [],
            "_model_module": "@jupyter-widgets/controls",
            "_model_module_version": "1.5.0",
            "_model_name": "FloatProgressModel",
            "_view_count": null,
            "_view_module": "@jupyter-widgets/controls",
            "_view_module_version": "1.5.0",
            "_view_name": "ProgressView",
            "bar_style": "",
            "description": "",
            "description_tooltip": null,
            "layout": "IPY_MODEL_9e5d1ff7dde7421c84d76a9f3df97f44",
            "max": 25000,
            "min": 0,
            "orientation": "horizontal",
            "style": "IPY_MODEL_7e8ff71a14a2459b81dd78552eb84e94",
            "value": 25000
          }
        },
        "8e1730d5f52a490d834dcb8405c93485": {
          "model_module": "@jupyter-widgets/controls",
          "model_name": "HTMLModel",
          "model_module_version": "1.5.0",
          "state": {
            "_dom_classes": [],
            "_model_module": "@jupyter-widgets/controls",
            "_model_module_version": "1.5.0",
            "_model_name": "HTMLModel",
            "_view_count": null,
            "_view_module": "@jupyter-widgets/controls",
            "_view_module_version": "1.5.0",
            "_view_name": "HTMLView",
            "description": "",
            "description_tooltip": null,
            "layout": "IPY_MODEL_57c329a576d14fa88a99826a194c0821",
            "placeholder": "​",
            "style": "IPY_MODEL_da72bd10d2f4421c94ad202a41b03ffc",
            "value": " 25000/25000 [00:16&lt;00:00, 4931.54 examples/s]"
          }
        },
        "b45c19a873344a129ac1cbb38c6bf335": {
          "model_module": "@jupyter-widgets/base",
          "model_name": "LayoutModel",
          "model_module_version": "1.2.0",
          "state": {
            "_model_module": "@jupyter-widgets/base",
            "_model_module_version": "1.2.0",
            "_model_name": "LayoutModel",
            "_view_count": null,
            "_view_module": "@jupyter-widgets/base",
            "_view_module_version": "1.2.0",
            "_view_name": "LayoutView",
            "align_content": null,
            "align_items": null,
            "align_self": null,
            "border": null,
            "bottom": null,
            "display": null,
            "flex": null,
            "flex_flow": null,
            "grid_area": null,
            "grid_auto_columns": null,
            "grid_auto_flow": null,
            "grid_auto_rows": null,
            "grid_column": null,
            "grid_gap": null,
            "grid_row": null,
            "grid_template_areas": null,
            "grid_template_columns": null,
            "grid_template_rows": null,
            "height": null,
            "justify_content": null,
            "justify_items": null,
            "left": null,
            "margin": null,
            "max_height": null,
            "max_width": null,
            "min_height": null,
            "min_width": null,
            "object_fit": null,
            "object_position": null,
            "order": null,
            "overflow": null,
            "overflow_x": null,
            "overflow_y": null,
            "padding": null,
            "right": null,
            "top": null,
            "visibility": null,
            "width": null
          }
        },
        "9c23b5e2c11747e085d482c3bd0b4ede": {
          "model_module": "@jupyter-widgets/base",
          "model_name": "LayoutModel",
          "model_module_version": "1.2.0",
          "state": {
            "_model_module": "@jupyter-widgets/base",
            "_model_module_version": "1.2.0",
            "_model_name": "LayoutModel",
            "_view_count": null,
            "_view_module": "@jupyter-widgets/base",
            "_view_module_version": "1.2.0",
            "_view_name": "LayoutView",
            "align_content": null,
            "align_items": null,
            "align_self": null,
            "border": null,
            "bottom": null,
            "display": null,
            "flex": null,
            "flex_flow": null,
            "grid_area": null,
            "grid_auto_columns": null,
            "grid_auto_flow": null,
            "grid_auto_rows": null,
            "grid_column": null,
            "grid_gap": null,
            "grid_row": null,
            "grid_template_areas": null,
            "grid_template_columns": null,
            "grid_template_rows": null,
            "height": null,
            "justify_content": null,
            "justify_items": null,
            "left": null,
            "margin": null,
            "max_height": null,
            "max_width": null,
            "min_height": null,
            "min_width": null,
            "object_fit": null,
            "object_position": null,
            "order": null,
            "overflow": null,
            "overflow_x": null,
            "overflow_y": null,
            "padding": null,
            "right": null,
            "top": null,
            "visibility": null,
            "width": null
          }
        },
        "4124ccf59ccd4920a833810a228e2bbe": {
          "model_module": "@jupyter-widgets/controls",
          "model_name": "DescriptionStyleModel",
          "model_module_version": "1.5.0",
          "state": {
            "_model_module": "@jupyter-widgets/controls",
            "_model_module_version": "1.5.0",
            "_model_name": "DescriptionStyleModel",
            "_view_count": null,
            "_view_module": "@jupyter-widgets/base",
            "_view_module_version": "1.2.0",
            "_view_name": "StyleView",
            "description_width": ""
          }
        },
        "9e5d1ff7dde7421c84d76a9f3df97f44": {
          "model_module": "@jupyter-widgets/base",
          "model_name": "LayoutModel",
          "model_module_version": "1.2.0",
          "state": {
            "_model_module": "@jupyter-widgets/base",
            "_model_module_version": "1.2.0",
            "_model_name": "LayoutModel",
            "_view_count": null,
            "_view_module": "@jupyter-widgets/base",
            "_view_module_version": "1.2.0",
            "_view_name": "LayoutView",
            "align_content": null,
            "align_items": null,
            "align_self": null,
            "border": null,
            "bottom": null,
            "display": null,
            "flex": null,
            "flex_flow": null,
            "grid_area": null,
            "grid_auto_columns": null,
            "grid_auto_flow": null,
            "grid_auto_rows": null,
            "grid_column": null,
            "grid_gap": null,
            "grid_row": null,
            "grid_template_areas": null,
            "grid_template_columns": null,
            "grid_template_rows": null,
            "height": null,
            "justify_content": null,
            "justify_items": null,
            "left": null,
            "margin": null,
            "max_height": null,
            "max_width": null,
            "min_height": null,
            "min_width": null,
            "object_fit": null,
            "object_position": null,
            "order": null,
            "overflow": null,
            "overflow_x": null,
            "overflow_y": null,
            "padding": null,
            "right": null,
            "top": null,
            "visibility": null,
            "width": null
          }
        },
        "7e8ff71a14a2459b81dd78552eb84e94": {
          "model_module": "@jupyter-widgets/controls",
          "model_name": "ProgressStyleModel",
          "model_module_version": "1.5.0",
          "state": {
            "_model_module": "@jupyter-widgets/controls",
            "_model_module_version": "1.5.0",
            "_model_name": "ProgressStyleModel",
            "_view_count": null,
            "_view_module": "@jupyter-widgets/base",
            "_view_module_version": "1.2.0",
            "_view_name": "StyleView",
            "bar_color": null,
            "description_width": ""
          }
        },
        "57c329a576d14fa88a99826a194c0821": {
          "model_module": "@jupyter-widgets/base",
          "model_name": "LayoutModel",
          "model_module_version": "1.2.0",
          "state": {
            "_model_module": "@jupyter-widgets/base",
            "_model_module_version": "1.2.0",
            "_model_name": "LayoutModel",
            "_view_count": null,
            "_view_module": "@jupyter-widgets/base",
            "_view_module_version": "1.2.0",
            "_view_name": "LayoutView",
            "align_content": null,
            "align_items": null,
            "align_self": null,
            "border": null,
            "bottom": null,
            "display": null,
            "flex": null,
            "flex_flow": null,
            "grid_area": null,
            "grid_auto_columns": null,
            "grid_auto_flow": null,
            "grid_auto_rows": null,
            "grid_column": null,
            "grid_gap": null,
            "grid_row": null,
            "grid_template_areas": null,
            "grid_template_columns": null,
            "grid_template_rows": null,
            "height": null,
            "justify_content": null,
            "justify_items": null,
            "left": null,
            "margin": null,
            "max_height": null,
            "max_width": null,
            "min_height": null,
            "min_width": null,
            "object_fit": null,
            "object_position": null,
            "order": null,
            "overflow": null,
            "overflow_x": null,
            "overflow_y": null,
            "padding": null,
            "right": null,
            "top": null,
            "visibility": null,
            "width": null
          }
        },
        "da72bd10d2f4421c94ad202a41b03ffc": {
          "model_module": "@jupyter-widgets/controls",
          "model_name": "DescriptionStyleModel",
          "model_module_version": "1.5.0",
          "state": {
            "_model_module": "@jupyter-widgets/controls",
            "_model_module_version": "1.5.0",
            "_model_name": "DescriptionStyleModel",
            "_view_count": null,
            "_view_module": "@jupyter-widgets/base",
            "_view_module_version": "1.2.0",
            "_view_name": "StyleView",
            "description_width": ""
          }
        },
        "9df416052e1d4475a7a92e51c04796f6": {
          "model_module": "@jupyter-widgets/controls",
          "model_name": "HBoxModel",
          "model_module_version": "1.5.0",
          "state": {
            "_dom_classes": [],
            "_model_module": "@jupyter-widgets/controls",
            "_model_module_version": "1.5.0",
            "_model_name": "HBoxModel",
            "_view_count": null,
            "_view_module": "@jupyter-widgets/controls",
            "_view_module_version": "1.5.0",
            "_view_name": "HBoxView",
            "box_style": "",
            "children": [
              "IPY_MODEL_01f099961c014473b41a4ba1f56971bb",
              "IPY_MODEL_012662d5c2be414a974f0fd16fdbafe4",
              "IPY_MODEL_241f479e6271422ca946f745cdaf51df"
            ],
            "layout": "IPY_MODEL_383c2a9620004ce3964ec08191bacc38"
          }
        },
        "01f099961c014473b41a4ba1f56971bb": {
          "model_module": "@jupyter-widgets/controls",
          "model_name": "HTMLModel",
          "model_module_version": "1.5.0",
          "state": {
            "_dom_classes": [],
            "_model_module": "@jupyter-widgets/controls",
            "_model_module_version": "1.5.0",
            "_model_name": "HTMLModel",
            "_view_count": null,
            "_view_module": "@jupyter-widgets/controls",
            "_view_module_version": "1.5.0",
            "_view_name": "HTMLView",
            "description": "",
            "description_tooltip": null,
            "layout": "IPY_MODEL_367b0db7775f413a8414dd97a5dadae3",
            "placeholder": "​",
            "style": "IPY_MODEL_38bc2a44b26b4297a2510fc6115e801c",
            "value": "Generating test split: 100%"
          }
        },
        "012662d5c2be414a974f0fd16fdbafe4": {
          "model_module": "@jupyter-widgets/controls",
          "model_name": "FloatProgressModel",
          "model_module_version": "1.5.0",
          "state": {
            "_dom_classes": [],
            "_model_module": "@jupyter-widgets/controls",
            "_model_module_version": "1.5.0",
            "_model_name": "FloatProgressModel",
            "_view_count": null,
            "_view_module": "@jupyter-widgets/controls",
            "_view_module_version": "1.5.0",
            "_view_name": "ProgressView",
            "bar_style": "",
            "description": "",
            "description_tooltip": null,
            "layout": "IPY_MODEL_7f657f0d1d0c45be876ec261bd5a9122",
            "max": 25000,
            "min": 0,
            "orientation": "horizontal",
            "style": "IPY_MODEL_dc8acd295e6348fd812ab8ea131b2cb4",
            "value": 25000
          }
        },
        "241f479e6271422ca946f745cdaf51df": {
          "model_module": "@jupyter-widgets/controls",
          "model_name": "HTMLModel",
          "model_module_version": "1.5.0",
          "state": {
            "_dom_classes": [],
            "_model_module": "@jupyter-widgets/controls",
            "_model_module_version": "1.5.0",
            "_model_name": "HTMLModel",
            "_view_count": null,
            "_view_module": "@jupyter-widgets/controls",
            "_view_module_version": "1.5.0",
            "_view_name": "HTMLView",
            "description": "",
            "description_tooltip": null,
            "layout": "IPY_MODEL_287feb8848b94dcfb48a8e084b5b15bc",
            "placeholder": "​",
            "style": "IPY_MODEL_88756979aade41b19ff513907400e3c6",
            "value": " 25000/25000 [00:17&lt;00:00, 9242.55 examples/s]"
          }
        },
        "383c2a9620004ce3964ec08191bacc38": {
          "model_module": "@jupyter-widgets/base",
          "model_name": "LayoutModel",
          "model_module_version": "1.2.0",
          "state": {
            "_model_module": "@jupyter-widgets/base",
            "_model_module_version": "1.2.0",
            "_model_name": "LayoutModel",
            "_view_count": null,
            "_view_module": "@jupyter-widgets/base",
            "_view_module_version": "1.2.0",
            "_view_name": "LayoutView",
            "align_content": null,
            "align_items": null,
            "align_self": null,
            "border": null,
            "bottom": null,
            "display": null,
            "flex": null,
            "flex_flow": null,
            "grid_area": null,
            "grid_auto_columns": null,
            "grid_auto_flow": null,
            "grid_auto_rows": null,
            "grid_column": null,
            "grid_gap": null,
            "grid_row": null,
            "grid_template_areas": null,
            "grid_template_columns": null,
            "grid_template_rows": null,
            "height": null,
            "justify_content": null,
            "justify_items": null,
            "left": null,
            "margin": null,
            "max_height": null,
            "max_width": null,
            "min_height": null,
            "min_width": null,
            "object_fit": null,
            "object_position": null,
            "order": null,
            "overflow": null,
            "overflow_x": null,
            "overflow_y": null,
            "padding": null,
            "right": null,
            "top": null,
            "visibility": null,
            "width": null
          }
        },
        "367b0db7775f413a8414dd97a5dadae3": {
          "model_module": "@jupyter-widgets/base",
          "model_name": "LayoutModel",
          "model_module_version": "1.2.0",
          "state": {
            "_model_module": "@jupyter-widgets/base",
            "_model_module_version": "1.2.0",
            "_model_name": "LayoutModel",
            "_view_count": null,
            "_view_module": "@jupyter-widgets/base",
            "_view_module_version": "1.2.0",
            "_view_name": "LayoutView",
            "align_content": null,
            "align_items": null,
            "align_self": null,
            "border": null,
            "bottom": null,
            "display": null,
            "flex": null,
            "flex_flow": null,
            "grid_area": null,
            "grid_auto_columns": null,
            "grid_auto_flow": null,
            "grid_auto_rows": null,
            "grid_column": null,
            "grid_gap": null,
            "grid_row": null,
            "grid_template_areas": null,
            "grid_template_columns": null,
            "grid_template_rows": null,
            "height": null,
            "justify_content": null,
            "justify_items": null,
            "left": null,
            "margin": null,
            "max_height": null,
            "max_width": null,
            "min_height": null,
            "min_width": null,
            "object_fit": null,
            "object_position": null,
            "order": null,
            "overflow": null,
            "overflow_x": null,
            "overflow_y": null,
            "padding": null,
            "right": null,
            "top": null,
            "visibility": null,
            "width": null
          }
        },
        "38bc2a44b26b4297a2510fc6115e801c": {
          "model_module": "@jupyter-widgets/controls",
          "model_name": "DescriptionStyleModel",
          "model_module_version": "1.5.0",
          "state": {
            "_model_module": "@jupyter-widgets/controls",
            "_model_module_version": "1.5.0",
            "_model_name": "DescriptionStyleModel",
            "_view_count": null,
            "_view_module": "@jupyter-widgets/base",
            "_view_module_version": "1.2.0",
            "_view_name": "StyleView",
            "description_width": ""
          }
        },
        "7f657f0d1d0c45be876ec261bd5a9122": {
          "model_module": "@jupyter-widgets/base",
          "model_name": "LayoutModel",
          "model_module_version": "1.2.0",
          "state": {
            "_model_module": "@jupyter-widgets/base",
            "_model_module_version": "1.2.0",
            "_model_name": "LayoutModel",
            "_view_count": null,
            "_view_module": "@jupyter-widgets/base",
            "_view_module_version": "1.2.0",
            "_view_name": "LayoutView",
            "align_content": null,
            "align_items": null,
            "align_self": null,
            "border": null,
            "bottom": null,
            "display": null,
            "flex": null,
            "flex_flow": null,
            "grid_area": null,
            "grid_auto_columns": null,
            "grid_auto_flow": null,
            "grid_auto_rows": null,
            "grid_column": null,
            "grid_gap": null,
            "grid_row": null,
            "grid_template_areas": null,
            "grid_template_columns": null,
            "grid_template_rows": null,
            "height": null,
            "justify_content": null,
            "justify_items": null,
            "left": null,
            "margin": null,
            "max_height": null,
            "max_width": null,
            "min_height": null,
            "min_width": null,
            "object_fit": null,
            "object_position": null,
            "order": null,
            "overflow": null,
            "overflow_x": null,
            "overflow_y": null,
            "padding": null,
            "right": null,
            "top": null,
            "visibility": null,
            "width": null
          }
        },
        "dc8acd295e6348fd812ab8ea131b2cb4": {
          "model_module": "@jupyter-widgets/controls",
          "model_name": "ProgressStyleModel",
          "model_module_version": "1.5.0",
          "state": {
            "_model_module": "@jupyter-widgets/controls",
            "_model_module_version": "1.5.0",
            "_model_name": "ProgressStyleModel",
            "_view_count": null,
            "_view_module": "@jupyter-widgets/base",
            "_view_module_version": "1.2.0",
            "_view_name": "StyleView",
            "bar_color": null,
            "description_width": ""
          }
        },
        "287feb8848b94dcfb48a8e084b5b15bc": {
          "model_module": "@jupyter-widgets/base",
          "model_name": "LayoutModel",
          "model_module_version": "1.2.0",
          "state": {
            "_model_module": "@jupyter-widgets/base",
            "_model_module_version": "1.2.0",
            "_model_name": "LayoutModel",
            "_view_count": null,
            "_view_module": "@jupyter-widgets/base",
            "_view_module_version": "1.2.0",
            "_view_name": "LayoutView",
            "align_content": null,
            "align_items": null,
            "align_self": null,
            "border": null,
            "bottom": null,
            "display": null,
            "flex": null,
            "flex_flow": null,
            "grid_area": null,
            "grid_auto_columns": null,
            "grid_auto_flow": null,
            "grid_auto_rows": null,
            "grid_column": null,
            "grid_gap": null,
            "grid_row": null,
            "grid_template_areas": null,
            "grid_template_columns": null,
            "grid_template_rows": null,
            "height": null,
            "justify_content": null,
            "justify_items": null,
            "left": null,
            "margin": null,
            "max_height": null,
            "max_width": null,
            "min_height": null,
            "min_width": null,
            "object_fit": null,
            "object_position": null,
            "order": null,
            "overflow": null,
            "overflow_x": null,
            "overflow_y": null,
            "padding": null,
            "right": null,
            "top": null,
            "visibility": null,
            "width": null
          }
        },
        "88756979aade41b19ff513907400e3c6": {
          "model_module": "@jupyter-widgets/controls",
          "model_name": "DescriptionStyleModel",
          "model_module_version": "1.5.0",
          "state": {
            "_model_module": "@jupyter-widgets/controls",
            "_model_module_version": "1.5.0",
            "_model_name": "DescriptionStyleModel",
            "_view_count": null,
            "_view_module": "@jupyter-widgets/base",
            "_view_module_version": "1.2.0",
            "_view_name": "StyleView",
            "description_width": ""
          }
        },
        "93c48995d29742b9812b8591c72d47c7": {
          "model_module": "@jupyter-widgets/controls",
          "model_name": "HBoxModel",
          "model_module_version": "1.5.0",
          "state": {
            "_dom_classes": [],
            "_model_module": "@jupyter-widgets/controls",
            "_model_module_version": "1.5.0",
            "_model_name": "HBoxModel",
            "_view_count": null,
            "_view_module": "@jupyter-widgets/controls",
            "_view_module_version": "1.5.0",
            "_view_name": "HBoxView",
            "box_style": "",
            "children": [
              "IPY_MODEL_73ab4fa31734444ebdfc99bfeff20d28",
              "IPY_MODEL_a784e71ac9fc4960964cfb19c58d7765",
              "IPY_MODEL_6d66886121d04e93b55613e5f03de93d"
            ],
            "layout": "IPY_MODEL_99c47f532f3a4f409457398a1e1bd1f2"
          }
        },
        "73ab4fa31734444ebdfc99bfeff20d28": {
          "model_module": "@jupyter-widgets/controls",
          "model_name": "HTMLModel",
          "model_module_version": "1.5.0",
          "state": {
            "_dom_classes": [],
            "_model_module": "@jupyter-widgets/controls",
            "_model_module_version": "1.5.0",
            "_model_name": "HTMLModel",
            "_view_count": null,
            "_view_module": "@jupyter-widgets/controls",
            "_view_module_version": "1.5.0",
            "_view_name": "HTMLView",
            "description": "",
            "description_tooltip": null,
            "layout": "IPY_MODEL_8ac740c6cf724727a99ca4aa4f7b95f7",
            "placeholder": "​",
            "style": "IPY_MODEL_15d9cd3768df4dd6b70697b42628c90f",
            "value": "Generating unsupervised split: 100%"
          }
        },
        "a784e71ac9fc4960964cfb19c58d7765": {
          "model_module": "@jupyter-widgets/controls",
          "model_name": "FloatProgressModel",
          "model_module_version": "1.5.0",
          "state": {
            "_dom_classes": [],
            "_model_module": "@jupyter-widgets/controls",
            "_model_module_version": "1.5.0",
            "_model_name": "FloatProgressModel",
            "_view_count": null,
            "_view_module": "@jupyter-widgets/controls",
            "_view_module_version": "1.5.0",
            "_view_name": "ProgressView",
            "bar_style": "",
            "description": "",
            "description_tooltip": null,
            "layout": "IPY_MODEL_0ce7d5e794664cd9b8642f06fee2f1de",
            "max": 50000,
            "min": 0,
            "orientation": "horizontal",
            "style": "IPY_MODEL_c71ca431d3e740639c6d22642af8740f",
            "value": 50000
          }
        },
        "6d66886121d04e93b55613e5f03de93d": {
          "model_module": "@jupyter-widgets/controls",
          "model_name": "HTMLModel",
          "model_module_version": "1.5.0",
          "state": {
            "_dom_classes": [],
            "_model_module": "@jupyter-widgets/controls",
            "_model_module_version": "1.5.0",
            "_model_name": "HTMLModel",
            "_view_count": null,
            "_view_module": "@jupyter-widgets/controls",
            "_view_module_version": "1.5.0",
            "_view_name": "HTMLView",
            "description": "",
            "description_tooltip": null,
            "layout": "IPY_MODEL_1d85aee1449844feb074ac9ed39d59d0",
            "placeholder": "​",
            "style": "IPY_MODEL_d02249d7a27648cbbf9c5e7773df2ec2",
            "value": " 50000/50000 [00:29&lt;00:00, 8940.25 examples/s]"
          }
        },
        "99c47f532f3a4f409457398a1e1bd1f2": {
          "model_module": "@jupyter-widgets/base",
          "model_name": "LayoutModel",
          "model_module_version": "1.2.0",
          "state": {
            "_model_module": "@jupyter-widgets/base",
            "_model_module_version": "1.2.0",
            "_model_name": "LayoutModel",
            "_view_count": null,
            "_view_module": "@jupyter-widgets/base",
            "_view_module_version": "1.2.0",
            "_view_name": "LayoutView",
            "align_content": null,
            "align_items": null,
            "align_self": null,
            "border": null,
            "bottom": null,
            "display": null,
            "flex": null,
            "flex_flow": null,
            "grid_area": null,
            "grid_auto_columns": null,
            "grid_auto_flow": null,
            "grid_auto_rows": null,
            "grid_column": null,
            "grid_gap": null,
            "grid_row": null,
            "grid_template_areas": null,
            "grid_template_columns": null,
            "grid_template_rows": null,
            "height": null,
            "justify_content": null,
            "justify_items": null,
            "left": null,
            "margin": null,
            "max_height": null,
            "max_width": null,
            "min_height": null,
            "min_width": null,
            "object_fit": null,
            "object_position": null,
            "order": null,
            "overflow": null,
            "overflow_x": null,
            "overflow_y": null,
            "padding": null,
            "right": null,
            "top": null,
            "visibility": null,
            "width": null
          }
        },
        "8ac740c6cf724727a99ca4aa4f7b95f7": {
          "model_module": "@jupyter-widgets/base",
          "model_name": "LayoutModel",
          "model_module_version": "1.2.0",
          "state": {
            "_model_module": "@jupyter-widgets/base",
            "_model_module_version": "1.2.0",
            "_model_name": "LayoutModel",
            "_view_count": null,
            "_view_module": "@jupyter-widgets/base",
            "_view_module_version": "1.2.0",
            "_view_name": "LayoutView",
            "align_content": null,
            "align_items": null,
            "align_self": null,
            "border": null,
            "bottom": null,
            "display": null,
            "flex": null,
            "flex_flow": null,
            "grid_area": null,
            "grid_auto_columns": null,
            "grid_auto_flow": null,
            "grid_auto_rows": null,
            "grid_column": null,
            "grid_gap": null,
            "grid_row": null,
            "grid_template_areas": null,
            "grid_template_columns": null,
            "grid_template_rows": null,
            "height": null,
            "justify_content": null,
            "justify_items": null,
            "left": null,
            "margin": null,
            "max_height": null,
            "max_width": null,
            "min_height": null,
            "min_width": null,
            "object_fit": null,
            "object_position": null,
            "order": null,
            "overflow": null,
            "overflow_x": null,
            "overflow_y": null,
            "padding": null,
            "right": null,
            "top": null,
            "visibility": null,
            "width": null
          }
        },
        "15d9cd3768df4dd6b70697b42628c90f": {
          "model_module": "@jupyter-widgets/controls",
          "model_name": "DescriptionStyleModel",
          "model_module_version": "1.5.0",
          "state": {
            "_model_module": "@jupyter-widgets/controls",
            "_model_module_version": "1.5.0",
            "_model_name": "DescriptionStyleModel",
            "_view_count": null,
            "_view_module": "@jupyter-widgets/base",
            "_view_module_version": "1.2.0",
            "_view_name": "StyleView",
            "description_width": ""
          }
        },
        "0ce7d5e794664cd9b8642f06fee2f1de": {
          "model_module": "@jupyter-widgets/base",
          "model_name": "LayoutModel",
          "model_module_version": "1.2.0",
          "state": {
            "_model_module": "@jupyter-widgets/base",
            "_model_module_version": "1.2.0",
            "_model_name": "LayoutModel",
            "_view_count": null,
            "_view_module": "@jupyter-widgets/base",
            "_view_module_version": "1.2.0",
            "_view_name": "LayoutView",
            "align_content": null,
            "align_items": null,
            "align_self": null,
            "border": null,
            "bottom": null,
            "display": null,
            "flex": null,
            "flex_flow": null,
            "grid_area": null,
            "grid_auto_columns": null,
            "grid_auto_flow": null,
            "grid_auto_rows": null,
            "grid_column": null,
            "grid_gap": null,
            "grid_row": null,
            "grid_template_areas": null,
            "grid_template_columns": null,
            "grid_template_rows": null,
            "height": null,
            "justify_content": null,
            "justify_items": null,
            "left": null,
            "margin": null,
            "max_height": null,
            "max_width": null,
            "min_height": null,
            "min_width": null,
            "object_fit": null,
            "object_position": null,
            "order": null,
            "overflow": null,
            "overflow_x": null,
            "overflow_y": null,
            "padding": null,
            "right": null,
            "top": null,
            "visibility": null,
            "width": null
          }
        },
        "c71ca431d3e740639c6d22642af8740f": {
          "model_module": "@jupyter-widgets/controls",
          "model_name": "ProgressStyleModel",
          "model_module_version": "1.5.0",
          "state": {
            "_model_module": "@jupyter-widgets/controls",
            "_model_module_version": "1.5.0",
            "_model_name": "ProgressStyleModel",
            "_view_count": null,
            "_view_module": "@jupyter-widgets/base",
            "_view_module_version": "1.2.0",
            "_view_name": "StyleView",
            "bar_color": null,
            "description_width": ""
          }
        },
        "1d85aee1449844feb074ac9ed39d59d0": {
          "model_module": "@jupyter-widgets/base",
          "model_name": "LayoutModel",
          "model_module_version": "1.2.0",
          "state": {
            "_model_module": "@jupyter-widgets/base",
            "_model_module_version": "1.2.0",
            "_model_name": "LayoutModel",
            "_view_count": null,
            "_view_module": "@jupyter-widgets/base",
            "_view_module_version": "1.2.0",
            "_view_name": "LayoutView",
            "align_content": null,
            "align_items": null,
            "align_self": null,
            "border": null,
            "bottom": null,
            "display": null,
            "flex": null,
            "flex_flow": null,
            "grid_area": null,
            "grid_auto_columns": null,
            "grid_auto_flow": null,
            "grid_auto_rows": null,
            "grid_column": null,
            "grid_gap": null,
            "grid_row": null,
            "grid_template_areas": null,
            "grid_template_columns": null,
            "grid_template_rows": null,
            "height": null,
            "justify_content": null,
            "justify_items": null,
            "left": null,
            "margin": null,
            "max_height": null,
            "max_width": null,
            "min_height": null,
            "min_width": null,
            "object_fit": null,
            "object_position": null,
            "order": null,
            "overflow": null,
            "overflow_x": null,
            "overflow_y": null,
            "padding": null,
            "right": null,
            "top": null,
            "visibility": null,
            "width": null
          }
        },
        "d02249d7a27648cbbf9c5e7773df2ec2": {
          "model_module": "@jupyter-widgets/controls",
          "model_name": "DescriptionStyleModel",
          "model_module_version": "1.5.0",
          "state": {
            "_model_module": "@jupyter-widgets/controls",
            "_model_module_version": "1.5.0",
            "_model_name": "DescriptionStyleModel",
            "_view_count": null,
            "_view_module": "@jupyter-widgets/base",
            "_view_module_version": "1.2.0",
            "_view_name": "StyleView",
            "description_width": ""
          }
        },
        "90d05fd1b1a541499df56d3dbd65af3f": {
          "model_module": "@jupyter-widgets/controls",
          "model_name": "HBoxModel",
          "model_module_version": "1.5.0",
          "state": {
            "_dom_classes": [],
            "_model_module": "@jupyter-widgets/controls",
            "_model_module_version": "1.5.0",
            "_model_name": "HBoxModel",
            "_view_count": null,
            "_view_module": "@jupyter-widgets/controls",
            "_view_module_version": "1.5.0",
            "_view_name": "HBoxView",
            "box_style": "",
            "children": [
              "IPY_MODEL_4260c4e1e07140af8577b9f26f77291f",
              "IPY_MODEL_96e71a03085941a1810af8ce0a4d04fc",
              "IPY_MODEL_cfc0a225f12b432f90106575c88a7efe"
            ],
            "layout": "IPY_MODEL_9e7bae831c1246c5924b952dff3c52b4"
          }
        },
        "4260c4e1e07140af8577b9f26f77291f": {
          "model_module": "@jupyter-widgets/controls",
          "model_name": "HTMLModel",
          "model_module_version": "1.5.0",
          "state": {
            "_dom_classes": [],
            "_model_module": "@jupyter-widgets/controls",
            "_model_module_version": "1.5.0",
            "_model_name": "HTMLModel",
            "_view_count": null,
            "_view_module": "@jupyter-widgets/controls",
            "_view_module_version": "1.5.0",
            "_view_name": "HTMLView",
            "description": "",
            "description_tooltip": null,
            "layout": "IPY_MODEL_f33772fd43d7469abb0109b6d93c0e2b",
            "placeholder": "​",
            "style": "IPY_MODEL_7f3ec0a0931b45d198f00f1b65da21e8",
            "value": "100%"
          }
        },
        "96e71a03085941a1810af8ce0a4d04fc": {
          "model_module": "@jupyter-widgets/controls",
          "model_name": "FloatProgressModel",
          "model_module_version": "1.5.0",
          "state": {
            "_dom_classes": [],
            "_model_module": "@jupyter-widgets/controls",
            "_model_module_version": "1.5.0",
            "_model_name": "FloatProgressModel",
            "_view_count": null,
            "_view_module": "@jupyter-widgets/controls",
            "_view_module_version": "1.5.0",
            "_view_name": "ProgressView",
            "bar_style": "success",
            "description": "",
            "description_tooltip": null,
            "layout": "IPY_MODEL_1315f4707f464a1f998b7ae7569f6f52",
            "max": 3,
            "min": 0,
            "orientation": "horizontal",
            "style": "IPY_MODEL_64bb546078e044b19c1fde6b3d67c8f5",
            "value": 3
          }
        },
        "cfc0a225f12b432f90106575c88a7efe": {
          "model_module": "@jupyter-widgets/controls",
          "model_name": "HTMLModel",
          "model_module_version": "1.5.0",
          "state": {
            "_dom_classes": [],
            "_model_module": "@jupyter-widgets/controls",
            "_model_module_version": "1.5.0",
            "_model_name": "HTMLModel",
            "_view_count": null,
            "_view_module": "@jupyter-widgets/controls",
            "_view_module_version": "1.5.0",
            "_view_name": "HTMLView",
            "description": "",
            "description_tooltip": null,
            "layout": "IPY_MODEL_d1e0eec545b94672aaa51b214b2cce30",
            "placeholder": "​",
            "style": "IPY_MODEL_1404042f2cbf46d6aa73b433078b6832",
            "value": " 3/3 [00:00&lt;00:00, 100.14it/s]"
          }
        },
        "9e7bae831c1246c5924b952dff3c52b4": {
          "model_module": "@jupyter-widgets/base",
          "model_name": "LayoutModel",
          "model_module_version": "1.2.0",
          "state": {
            "_model_module": "@jupyter-widgets/base",
            "_model_module_version": "1.2.0",
            "_model_name": "LayoutModel",
            "_view_count": null,
            "_view_module": "@jupyter-widgets/base",
            "_view_module_version": "1.2.0",
            "_view_name": "LayoutView",
            "align_content": null,
            "align_items": null,
            "align_self": null,
            "border": null,
            "bottom": null,
            "display": null,
            "flex": null,
            "flex_flow": null,
            "grid_area": null,
            "grid_auto_columns": null,
            "grid_auto_flow": null,
            "grid_auto_rows": null,
            "grid_column": null,
            "grid_gap": null,
            "grid_row": null,
            "grid_template_areas": null,
            "grid_template_columns": null,
            "grid_template_rows": null,
            "height": null,
            "justify_content": null,
            "justify_items": null,
            "left": null,
            "margin": null,
            "max_height": null,
            "max_width": null,
            "min_height": null,
            "min_width": null,
            "object_fit": null,
            "object_position": null,
            "order": null,
            "overflow": null,
            "overflow_x": null,
            "overflow_y": null,
            "padding": null,
            "right": null,
            "top": null,
            "visibility": null,
            "width": null
          }
        },
        "f33772fd43d7469abb0109b6d93c0e2b": {
          "model_module": "@jupyter-widgets/base",
          "model_name": "LayoutModel",
          "model_module_version": "1.2.0",
          "state": {
            "_model_module": "@jupyter-widgets/base",
            "_model_module_version": "1.2.0",
            "_model_name": "LayoutModel",
            "_view_count": null,
            "_view_module": "@jupyter-widgets/base",
            "_view_module_version": "1.2.0",
            "_view_name": "LayoutView",
            "align_content": null,
            "align_items": null,
            "align_self": null,
            "border": null,
            "bottom": null,
            "display": null,
            "flex": null,
            "flex_flow": null,
            "grid_area": null,
            "grid_auto_columns": null,
            "grid_auto_flow": null,
            "grid_auto_rows": null,
            "grid_column": null,
            "grid_gap": null,
            "grid_row": null,
            "grid_template_areas": null,
            "grid_template_columns": null,
            "grid_template_rows": null,
            "height": null,
            "justify_content": null,
            "justify_items": null,
            "left": null,
            "margin": null,
            "max_height": null,
            "max_width": null,
            "min_height": null,
            "min_width": null,
            "object_fit": null,
            "object_position": null,
            "order": null,
            "overflow": null,
            "overflow_x": null,
            "overflow_y": null,
            "padding": null,
            "right": null,
            "top": null,
            "visibility": null,
            "width": null
          }
        },
        "7f3ec0a0931b45d198f00f1b65da21e8": {
          "model_module": "@jupyter-widgets/controls",
          "model_name": "DescriptionStyleModel",
          "model_module_version": "1.5.0",
          "state": {
            "_model_module": "@jupyter-widgets/controls",
            "_model_module_version": "1.5.0",
            "_model_name": "DescriptionStyleModel",
            "_view_count": null,
            "_view_module": "@jupyter-widgets/base",
            "_view_module_version": "1.2.0",
            "_view_name": "StyleView",
            "description_width": ""
          }
        },
        "1315f4707f464a1f998b7ae7569f6f52": {
          "model_module": "@jupyter-widgets/base",
          "model_name": "LayoutModel",
          "model_module_version": "1.2.0",
          "state": {
            "_model_module": "@jupyter-widgets/base",
            "_model_module_version": "1.2.0",
            "_model_name": "LayoutModel",
            "_view_count": null,
            "_view_module": "@jupyter-widgets/base",
            "_view_module_version": "1.2.0",
            "_view_name": "LayoutView",
            "align_content": null,
            "align_items": null,
            "align_self": null,
            "border": null,
            "bottom": null,
            "display": null,
            "flex": null,
            "flex_flow": null,
            "grid_area": null,
            "grid_auto_columns": null,
            "grid_auto_flow": null,
            "grid_auto_rows": null,
            "grid_column": null,
            "grid_gap": null,
            "grid_row": null,
            "grid_template_areas": null,
            "grid_template_columns": null,
            "grid_template_rows": null,
            "height": null,
            "justify_content": null,
            "justify_items": null,
            "left": null,
            "margin": null,
            "max_height": null,
            "max_width": null,
            "min_height": null,
            "min_width": null,
            "object_fit": null,
            "object_position": null,
            "order": null,
            "overflow": null,
            "overflow_x": null,
            "overflow_y": null,
            "padding": null,
            "right": null,
            "top": null,
            "visibility": null,
            "width": null
          }
        },
        "64bb546078e044b19c1fde6b3d67c8f5": {
          "model_module": "@jupyter-widgets/controls",
          "model_name": "ProgressStyleModel",
          "model_module_version": "1.5.0",
          "state": {
            "_model_module": "@jupyter-widgets/controls",
            "_model_module_version": "1.5.0",
            "_model_name": "ProgressStyleModel",
            "_view_count": null,
            "_view_module": "@jupyter-widgets/base",
            "_view_module_version": "1.2.0",
            "_view_name": "StyleView",
            "bar_color": null,
            "description_width": ""
          }
        },
        "d1e0eec545b94672aaa51b214b2cce30": {
          "model_module": "@jupyter-widgets/base",
          "model_name": "LayoutModel",
          "model_module_version": "1.2.0",
          "state": {
            "_model_module": "@jupyter-widgets/base",
            "_model_module_version": "1.2.0",
            "_model_name": "LayoutModel",
            "_view_count": null,
            "_view_module": "@jupyter-widgets/base",
            "_view_module_version": "1.2.0",
            "_view_name": "LayoutView",
            "align_content": null,
            "align_items": null,
            "align_self": null,
            "border": null,
            "bottom": null,
            "display": null,
            "flex": null,
            "flex_flow": null,
            "grid_area": null,
            "grid_auto_columns": null,
            "grid_auto_flow": null,
            "grid_auto_rows": null,
            "grid_column": null,
            "grid_gap": null,
            "grid_row": null,
            "grid_template_areas": null,
            "grid_template_columns": null,
            "grid_template_rows": null,
            "height": null,
            "justify_content": null,
            "justify_items": null,
            "left": null,
            "margin": null,
            "max_height": null,
            "max_width": null,
            "min_height": null,
            "min_width": null,
            "object_fit": null,
            "object_position": null,
            "order": null,
            "overflow": null,
            "overflow_x": null,
            "overflow_y": null,
            "padding": null,
            "right": null,
            "top": null,
            "visibility": null,
            "width": null
          }
        },
        "1404042f2cbf46d6aa73b433078b6832": {
          "model_module": "@jupyter-widgets/controls",
          "model_name": "DescriptionStyleModel",
          "model_module_version": "1.5.0",
          "state": {
            "_model_module": "@jupyter-widgets/controls",
            "_model_module_version": "1.5.0",
            "_model_name": "DescriptionStyleModel",
            "_view_count": null,
            "_view_module": "@jupyter-widgets/base",
            "_view_module_version": "1.2.0",
            "_view_name": "StyleView",
            "description_width": ""
          }
        },
        "30dbbb6758ff4560bcd35f4ced84c55f": {
          "model_module": "@jupyter-widgets/controls",
          "model_name": "HBoxModel",
          "model_module_version": "1.5.0",
          "state": {
            "_dom_classes": [],
            "_model_module": "@jupyter-widgets/controls",
            "_model_module_version": "1.5.0",
            "_model_name": "HBoxModel",
            "_view_count": null,
            "_view_module": "@jupyter-widgets/controls",
            "_view_module_version": "1.5.0",
            "_view_name": "HBoxView",
            "box_style": "",
            "children": [
              "IPY_MODEL_51bb8476568849fb90cc0170b34cf6f3",
              "IPY_MODEL_410491ca35b14787b450d7bb9a443a86",
              "IPY_MODEL_b7fda4efb7f849ee8dba9c674f42193f"
            ],
            "layout": "IPY_MODEL_5abaf33a06084817bf15796e1ed06584"
          }
        },
        "51bb8476568849fb90cc0170b34cf6f3": {
          "model_module": "@jupyter-widgets/controls",
          "model_name": "HTMLModel",
          "model_module_version": "1.5.0",
          "state": {
            "_dom_classes": [],
            "_model_module": "@jupyter-widgets/controls",
            "_model_module_version": "1.5.0",
            "_model_name": "HTMLModel",
            "_view_count": null,
            "_view_module": "@jupyter-widgets/controls",
            "_view_module_version": "1.5.0",
            "_view_name": "HTMLView",
            "description": "",
            "description_tooltip": null,
            "layout": "IPY_MODEL_174895eba18c422c89f7bf60889cf7e7",
            "placeholder": "​",
            "style": "IPY_MODEL_6ffeaa7888ce4e63bed49cbf0ca66654",
            "value": "Downloading builder script: 100%"
          }
        },
        "410491ca35b14787b450d7bb9a443a86": {
          "model_module": "@jupyter-widgets/controls",
          "model_name": "FloatProgressModel",
          "model_module_version": "1.5.0",
          "state": {
            "_dom_classes": [],
            "_model_module": "@jupyter-widgets/controls",
            "_model_module_version": "1.5.0",
            "_model_name": "FloatProgressModel",
            "_view_count": null,
            "_view_module": "@jupyter-widgets/controls",
            "_view_module_version": "1.5.0",
            "_view_name": "ProgressView",
            "bar_style": "success",
            "description": "",
            "description_tooltip": null,
            "layout": "IPY_MODEL_ecb3b958e5f84b34a7cd3a9b1dbfb8a8",
            "max": 4203,
            "min": 0,
            "orientation": "horizontal",
            "style": "IPY_MODEL_81aca20fdb3346e9911d4bab5381b9e7",
            "value": 4203
          }
        },
        "b7fda4efb7f849ee8dba9c674f42193f": {
          "model_module": "@jupyter-widgets/controls",
          "model_name": "HTMLModel",
          "model_module_version": "1.5.0",
          "state": {
            "_dom_classes": [],
            "_model_module": "@jupyter-widgets/controls",
            "_model_module_version": "1.5.0",
            "_model_name": "HTMLModel",
            "_view_count": null,
            "_view_module": "@jupyter-widgets/controls",
            "_view_module_version": "1.5.0",
            "_view_name": "HTMLView",
            "description": "",
            "description_tooltip": null,
            "layout": "IPY_MODEL_4d915f27076d4fa68d6793aef0ad1adc",
            "placeholder": "​",
            "style": "IPY_MODEL_4408717a1fde4e46a7ee38feb52a8b5d",
            "value": " 4.20k/4.20k [00:00&lt;00:00, 230kB/s]"
          }
        },
        "5abaf33a06084817bf15796e1ed06584": {
          "model_module": "@jupyter-widgets/base",
          "model_name": "LayoutModel",
          "model_module_version": "1.2.0",
          "state": {
            "_model_module": "@jupyter-widgets/base",
            "_model_module_version": "1.2.0",
            "_model_name": "LayoutModel",
            "_view_count": null,
            "_view_module": "@jupyter-widgets/base",
            "_view_module_version": "1.2.0",
            "_view_name": "LayoutView",
            "align_content": null,
            "align_items": null,
            "align_self": null,
            "border": null,
            "bottom": null,
            "display": null,
            "flex": null,
            "flex_flow": null,
            "grid_area": null,
            "grid_auto_columns": null,
            "grid_auto_flow": null,
            "grid_auto_rows": null,
            "grid_column": null,
            "grid_gap": null,
            "grid_row": null,
            "grid_template_areas": null,
            "grid_template_columns": null,
            "grid_template_rows": null,
            "height": null,
            "justify_content": null,
            "justify_items": null,
            "left": null,
            "margin": null,
            "max_height": null,
            "max_width": null,
            "min_height": null,
            "min_width": null,
            "object_fit": null,
            "object_position": null,
            "order": null,
            "overflow": null,
            "overflow_x": null,
            "overflow_y": null,
            "padding": null,
            "right": null,
            "top": null,
            "visibility": null,
            "width": null
          }
        },
        "174895eba18c422c89f7bf60889cf7e7": {
          "model_module": "@jupyter-widgets/base",
          "model_name": "LayoutModel",
          "model_module_version": "1.2.0",
          "state": {
            "_model_module": "@jupyter-widgets/base",
            "_model_module_version": "1.2.0",
            "_model_name": "LayoutModel",
            "_view_count": null,
            "_view_module": "@jupyter-widgets/base",
            "_view_module_version": "1.2.0",
            "_view_name": "LayoutView",
            "align_content": null,
            "align_items": null,
            "align_self": null,
            "border": null,
            "bottom": null,
            "display": null,
            "flex": null,
            "flex_flow": null,
            "grid_area": null,
            "grid_auto_columns": null,
            "grid_auto_flow": null,
            "grid_auto_rows": null,
            "grid_column": null,
            "grid_gap": null,
            "grid_row": null,
            "grid_template_areas": null,
            "grid_template_columns": null,
            "grid_template_rows": null,
            "height": null,
            "justify_content": null,
            "justify_items": null,
            "left": null,
            "margin": null,
            "max_height": null,
            "max_width": null,
            "min_height": null,
            "min_width": null,
            "object_fit": null,
            "object_position": null,
            "order": null,
            "overflow": null,
            "overflow_x": null,
            "overflow_y": null,
            "padding": null,
            "right": null,
            "top": null,
            "visibility": null,
            "width": null
          }
        },
        "6ffeaa7888ce4e63bed49cbf0ca66654": {
          "model_module": "@jupyter-widgets/controls",
          "model_name": "DescriptionStyleModel",
          "model_module_version": "1.5.0",
          "state": {
            "_model_module": "@jupyter-widgets/controls",
            "_model_module_version": "1.5.0",
            "_model_name": "DescriptionStyleModel",
            "_view_count": null,
            "_view_module": "@jupyter-widgets/base",
            "_view_module_version": "1.2.0",
            "_view_name": "StyleView",
            "description_width": ""
          }
        },
        "ecb3b958e5f84b34a7cd3a9b1dbfb8a8": {
          "model_module": "@jupyter-widgets/base",
          "model_name": "LayoutModel",
          "model_module_version": "1.2.0",
          "state": {
            "_model_module": "@jupyter-widgets/base",
            "_model_module_version": "1.2.0",
            "_model_name": "LayoutModel",
            "_view_count": null,
            "_view_module": "@jupyter-widgets/base",
            "_view_module_version": "1.2.0",
            "_view_name": "LayoutView",
            "align_content": null,
            "align_items": null,
            "align_self": null,
            "border": null,
            "bottom": null,
            "display": null,
            "flex": null,
            "flex_flow": null,
            "grid_area": null,
            "grid_auto_columns": null,
            "grid_auto_flow": null,
            "grid_auto_rows": null,
            "grid_column": null,
            "grid_gap": null,
            "grid_row": null,
            "grid_template_areas": null,
            "grid_template_columns": null,
            "grid_template_rows": null,
            "height": null,
            "justify_content": null,
            "justify_items": null,
            "left": null,
            "margin": null,
            "max_height": null,
            "max_width": null,
            "min_height": null,
            "min_width": null,
            "object_fit": null,
            "object_position": null,
            "order": null,
            "overflow": null,
            "overflow_x": null,
            "overflow_y": null,
            "padding": null,
            "right": null,
            "top": null,
            "visibility": null,
            "width": null
          }
        },
        "81aca20fdb3346e9911d4bab5381b9e7": {
          "model_module": "@jupyter-widgets/controls",
          "model_name": "ProgressStyleModel",
          "model_module_version": "1.5.0",
          "state": {
            "_model_module": "@jupyter-widgets/controls",
            "_model_module_version": "1.5.0",
            "_model_name": "ProgressStyleModel",
            "_view_count": null,
            "_view_module": "@jupyter-widgets/base",
            "_view_module_version": "1.2.0",
            "_view_name": "StyleView",
            "bar_color": null,
            "description_width": ""
          }
        },
        "4d915f27076d4fa68d6793aef0ad1adc": {
          "model_module": "@jupyter-widgets/base",
          "model_name": "LayoutModel",
          "model_module_version": "1.2.0",
          "state": {
            "_model_module": "@jupyter-widgets/base",
            "_model_module_version": "1.2.0",
            "_model_name": "LayoutModel",
            "_view_count": null,
            "_view_module": "@jupyter-widgets/base",
            "_view_module_version": "1.2.0",
            "_view_name": "LayoutView",
            "align_content": null,
            "align_items": null,
            "align_self": null,
            "border": null,
            "bottom": null,
            "display": null,
            "flex": null,
            "flex_flow": null,
            "grid_area": null,
            "grid_auto_columns": null,
            "grid_auto_flow": null,
            "grid_auto_rows": null,
            "grid_column": null,
            "grid_gap": null,
            "grid_row": null,
            "grid_template_areas": null,
            "grid_template_columns": null,
            "grid_template_rows": null,
            "height": null,
            "justify_content": null,
            "justify_items": null,
            "left": null,
            "margin": null,
            "max_height": null,
            "max_width": null,
            "min_height": null,
            "min_width": null,
            "object_fit": null,
            "object_position": null,
            "order": null,
            "overflow": null,
            "overflow_x": null,
            "overflow_y": null,
            "padding": null,
            "right": null,
            "top": null,
            "visibility": null,
            "width": null
          }
        },
        "4408717a1fde4e46a7ee38feb52a8b5d": {
          "model_module": "@jupyter-widgets/controls",
          "model_name": "DescriptionStyleModel",
          "model_module_version": "1.5.0",
          "state": {
            "_model_module": "@jupyter-widgets/controls",
            "_model_module_version": "1.5.0",
            "_model_name": "DescriptionStyleModel",
            "_view_count": null,
            "_view_module": "@jupyter-widgets/base",
            "_view_module_version": "1.2.0",
            "_view_name": "StyleView",
            "description_width": ""
          }
        }
      }
    }
  },
  "nbformat": 4,
  "nbformat_minor": 0
}